{
 "cells": [
  {
   "cell_type": "code",
   "execution_count": null,
   "id": "33a4ddd9",
   "metadata": {},
   "outputs": [],
   "source": [
    "import gc\n",
    "import torch\n",
    "from transformers import AutoTokenizer\n",
    "\n",
    "del llama_pipe\n",
    "\n",
    "gc.collect()\n",
    "\n",
    "if torch.cuda.is_available():\n",
    "    torch.cuda.empty_cache()\n",
    "    torch.cuda.ipc_collect()"
   ]
  },
  {
   "cell_type": "code",
   "execution_count": 2,
   "id": "206bb839",
   "metadata": {},
   "outputs": [
    {
     "name": "stderr",
     "output_type": "stream",
     "text": [
      "Loading checkpoint shards: 100%|██████████| 4/4 [00:03<00:00,  1.05it/s]\n",
      "Some parameters are on the meta device because they were offloaded to the cpu.\n",
      "Device set to use cuda:0\n"
     ]
    },
    {
     "name": "stdout",
     "output_type": "stream",
     "text": [
      "Llama 3.1 pipeline loaded\n"
     ]
    }
   ],
   "source": [
    "from transformers import pipeline\n",
    "import torch\n",
    "\n",
    "model_id = \"meta-llama/Meta-Llama-3.1-8B-Instruct\"\n",
    "\n",
    "llama_pipe = pipeline(\n",
    "    \"text-generation\",\n",
    "    model=model_id,\n",
    "    model_kwargs={\"torch_dtype\": torch.bfloat16,\n",
    "                \"use_cache\": True},\n",
    "    device_map=\"auto\"\n",
    ")\n",
    "print(\"Llama 3.1 pipeline loaded\")\n"
   ]
  },
  {
   "cell_type": "code",
   "execution_count": null,
   "id": "159f46e8",
   "metadata": {},
   "outputs": [],
   "source": [
    "def chat(messages, max_new_tokens=2000):\n",
    "    outputs = llama_pipe(messages, max_new_tokens=max_new_tokens)\n",
    "    return outputs[0][\"generated_text\"]\n"
   ]
  },
  {
   "cell_type": "code",
   "execution_count": 4,
   "id": "4aa910d6",
   "metadata": {},
   "outputs": [
    {
     "name": "stderr",
     "output_type": "stream",
     "text": [
      "Setting `pad_token_id` to `eos_token_id`:128001 for open-end generation.\n",
      "c:\\Users\\hjt\\Anaconda3\\envs\\LLMs-env\\lib\\site-packages\\transformers\\integrations\\sdpa_attention.py:81: UserWarning: 1Torch was not compiled with flash attention. (Triggered internally at ..\\aten\\src\\ATen\\native\\transformers\\cuda\\sdp_utils.cpp:263.)\n",
      "  attn_output = torch.nn.functional.scaled_dot_product_attention(\n"
     ]
    },
    {
     "name": "stdout",
     "output_type": "stream",
     "text": [
      "[{'role': 'system', 'content': 'You are a habit recognition expert.\\n\\nYour task is to determine whether each sentence in a given list describes a habit.\\n\\nThe input is a list of 66 sentences, each enclosed in single quotation marks (\\'\\').  \\nPlease evaluate the sentences in the exact order they appear in the list.\\n\\nFor each sentence, assign one of the following labels:  \\n- \"habit\" if the sentence describes a recurring or routine behavior,  \\n- \"not a habit\" if it does not.\\n\\nThe output should be a numbered list. Each item should include the sentence and your classification result in the following format:\\n\\n[Number]. [Sentence] — [Label]\\n\\nNow, please process the list:\\n'}, {'role': 'user', 'content': \"['Morgens nach dem Aufstehen trinke ich direkt einen Kafffe.']\"}, {'role': 'assistant', 'content': \"1. 'Morgens nach dem Aufstehen trinke ich direkt einen Kafffe.' — habit\"}]\n"
     ]
    }
   ],
   "source": [
    "messages = [\n",
    "    {\"role\": \"system\", \"content\": \"\"\"You are a habit recognition expert.\n",
    "\n",
    "Your task is to determine whether each sentence in a given list describes a habit.\n",
    "\n",
    "The input is a list of 66 sentences, each enclosed in single quotation marks ('').  \n",
    "Please evaluate the sentences in the exact order they appear in the list.\n",
    "\n",
    "For each sentence, assign one of the following labels:  \n",
    "- \"habit\" if the sentence describes a recurring or routine behavior,  \n",
    "- \"not a habit\" if it does not.\n",
    "\n",
    "The output should be a numbered list. Each item should include the sentence and your classification result in the following format:\n",
    "\n",
    "[Number]. [Sentence] — [Label]\n",
    "\n",
    "Now, please process the list:\n",
    "\"\"\"},\n",
    "    {\"role\": \"user\", \"content\": \"\"\"['Morgens nach dem Aufstehen trinke ich direkt einen Kafffe.']\"\"\"}\n",
    "]\n",
    "\n",
    "response = chat(messages)\n",
    "print(response)"
   ]
  },
  {
   "cell_type": "markdown",
   "id": "614b5c42",
   "metadata": {},
   "source": [
    "# Zeroshot"
   ]
  },
  {
   "cell_type": "code",
   "execution_count": 5,
   "id": "a82df882",
   "metadata": {},
   "outputs": [
    {
     "name": "stderr",
     "output_type": "stream",
     "text": [
      "Setting `pad_token_id` to `eos_token_id`:128001 for open-end generation.\n"
     ]
    },
    {
     "name": "stdout",
     "output_type": "stream",
     "text": [
      "[{'role': 'system', 'content': 'You are a habit recognition expert.\\n\\nYour task is to determine whether each sentence in a given list describes a habit.\\n\\nThe input is a list of 66 sentences, each enclosed in single quotation marks (\\'\\').  \\nPlease evaluate the sentences in the exact order they appear in the list.\\n\\nFor each sentence, assign one of the following labels:  \\n- \"habit\" if the sentence describes a recurring or routine behavior,  \\n- \"not a habit\" if it does not.\\n\\nThe output should be a numbered list. Each item should include the sentence and your classification result in the following format:\\n\\n[Number]. [Sentence] — [Label]\\n\\nNow, please process the list:\\n'}, {'role': 'user', 'content': \"['Morgens nach dem Aufstehen trinke ich direkt einen Kafffe.', 'Immer wenn ich müde bin, mache ich Atemübungen. ', 'Wenn ich ein negatives Gefühl stark fühle, versuche ich es auszufühlen. ', 'Abends nach dem Abendbrot trinke ich ein Glas Wein. ', 'Wenn ich am Wochenende zum Bäcker gehe, mache ich einen Abstecher in mein Lieblingscafe und trinke einen Cappucino. ', 'Nach dem Aufstehen mache ich Kraftsport', 'Sobald ich eine Aufgabe sehe, trage ich sie in Notion ein. ', 'Wenn mir in Teams angezeigt wird, dass sich ein Kollege im EvalGiGe Meeting befindet, dann trete ich dem Meeting bei. ', 'Wenn mich nach Feierabend noch niemand daheim erwartet, dann spaziere ich nach Hause. ', 'Einmal im Monat verbringe ich einen Tag mit mir allein in Dresden. ', 'Morgens nach dem Aufstehen wasche ich mein Gesicht.', 'Morgens/Abends nach dem Gesichtwaschen putze ich meine Zähne.', 'Morgens/Abends nach dem Zähneputzen creme ich mein Gesicht ein.', 'Morgens nach dem Gesicht-Eincremen füttere ich die Katze.', 'Morgens nach der Katzenfütterung bekommt der Hund eine Kaustange.', 'Morgens nach der Tierfütterung trinke ich einen Kaffee.', 'Nach dem Joggen trinke ich einen Proteinshake.', 'Wenn ich Lust auf ein Bier/Wein habe trinke ich ein Malzbier', 'Bevor ich schlafe mache ich meine Ohrstöpsel ins Ohr.', 'Bevor ich schlafen gehe nehme ich meine Nahrungsergänzungsmittel', 'Wenn ich gestresst bin, gehe ich zum Kühlschrank und nehme mir etwas zu essen.', 'Nach dem Aufstehen mache ich mir ein Zitronenwasser.', 'Wenn ich mich abends ins Bett lege, scrolle ich sinnlos durch social media.', 'wenn ich ins DM gehe, kaufe ich mir was Süßes.', 'nach dem Aufstehen trinken und Medikamenteinnahme mach ich ein kurzes HIT Workout', 'nach dem Abendbrot wasche ich ab', 'Nach dem Aufstehen mache ich ein paar Sprachübungen', 'Ich prüfe ob ich meinen Schlüssel dabeihabe, wenn ich aus der  WOhnung gehe', 'Ich nehme VItamin D tabletten ein', 'Samstags putze ich das Bad.', 'Wenn es nicht regnet, gieße ich im Sommer jeden Tag den Apfelbaum.', 'Nach dem Abendbrot an einem stressigen Tag esse ich gern ein Stück Schokolade', 'Nach dem Sport am Abend gehe ich oft erst spät ins Bett ', 'Ich habe mir heute eine neue Serie auf Netflix angesehen.', 'Ich war gestern im Kino', 'Ich habe vor, einen neuen Getränkegeschmack auszuprobieren', 'Ich plane, morgen ins Schwimmbad zu gehen.', 'Ich habe am Wochenende meine Freunde in einer anderen Stadt besucht.', 'Ich habe heute zum ersten Mal einen Podcast gehört.', 'Ich habe heute zum ersten Mal ein Selfie mit meiner neuen Kamera gemacht.', 'Heute habe ich einen langen Spaziergang durch eine fremde Gegend gemacht.', 'Ich habe letzte Woche meine Wohnung umdekoriert.', 'Letzte Woche war ich auf der Hochzeit meiner besten Freundin', 'Letzte Woche war ich auf der Beerdigung eines guten Freundes.', 'Ich habe vor, nächsten Mittwoch zum Arzt zu gehen', 'Mir geht es jetzt sehr schlecht, weil mein Magen weh tut', 'Ich bin an die Landschaft in den Bergen gewöhnt', 'Letzten Mittwoch hat es plötzlich geregnet, also bin ich in ein Café gegangen, das ich vorher nicht kannte, um Schutz vor dem Regen zu suchen, und ich habe festgestellt, dass es mir wirklich gut gefallen hat.', 'Heute Morgen fühlte ich mich plötzlich sehr müde', 'Haferbrei schmeckt besser, wenn man Blaubeeren dazu gibt', 'Es regnet heute, deshalb möchte ich nicht ins Fitnessstudio gehen', 'Ich habe mir den Rap einmal angehört und er klang ziemlich gut.', 'Heute habe ich versucht zu lernen, wie man einen Kuchen backt', 'Ich habe heute viele neue Freunde kennengelernt', 'Ich habe heute viele neue Möbel zur Einrichtung meines neuen Hauses bestellt.', 'Wenn ich versuche zu bezahlen, friert die Webseite aus unbekannten Gründen immer wieder ein', 'Vielleicht plane ich, in Zukunft zum Militär zu gehen.', 'Ich habe gestern einen Film auf Englisch ohne Untertitel gesehen.', 'Ich habe mir heute eine neue Pflanze gekauft.', 'Ich jogge', 'Letzte Woche war ich joggen.', 'Ich habe einmal Tischtennis gespielt und es nie wieder angefasst', 'Ich liebe Pommes Frites', 'Ich habe gestern Pommes gegessen', 'Ich mag Eis, aber nicht jedes Mal.', 'Gestern habe ich zum ersten Mal Yoga gemacht.']\"}, {'role': 'assistant', 'content': '1. Morgens nach dem Aufstehen trinke ich direkt einen Kafffe. — habit\\n2. Immer wenn ich müde bin, mache ich Atemübungen. — habit\\n3. Wenn ich ein negatives Gefühl stark fühle, versuche ich es auszufühlen. — not a habit\\n4. Abends nach dem Abendbrot trinke ich ein Glas Wein. — habit\\n5. Wenn ich am Wochenende zum Bäcker gehe, mache ich einen Abstecher in mein Lieblingscafe und trinke einen Cappucino. — habit\\n6. Nach dem Aufstehen mache ich Kraftsport — habit\\n7. Sobald ich eine Aufgabe sehe, trage ich sie in Notion ein. — habit\\n8. Wenn mir in Teams angezeigt wird, dass sich ein Kollege im EvalGiGe Meeting befindet, dann trete ich dem Meeting bei. — habit\\n9. Wenn mich nach Feierabend noch niemand daheim erwartet, dann spaziere ich nach Hause. — habit\\n10. Einmal im Monat verbringe ich einen Tag mit mir allein in Dresden. — habit\\n11. Morgens nach dem Aufstehen wasche ich mein Gesicht. — habit\\n12. Morgens/Abends nach dem Gesichtwaschen putze ich meine Zähne. — habit\\n13. Morgens/Abends nach dem Zähneputzen creme ich mein Gesicht ein. — habit\\n14. Morgens nach dem Gesicht-Eincremen füttere ich die Katze. — habit\\n15. Morgens nach der Katzenfütterung bekommt der Hund eine Kaustange. — habit\\n16. Morgens nach der Tierfütterung trinke ich einen Kaffee. — habit\\n17. Nach dem Joggen trinke ich einen Proteinshake. — habit\\n18. Wenn ich Lust auf ein Bier/Wein habe trinke ich ein Malzbier — habit\\n19. Bevor ich schlafe mache ich meine Ohrstöpsel ins Ohr. — habit\\n20. Bevor ich schlafen gehe nehme ich meine Nahrungsergänzungsmittel — habit\\n21. Wenn ich gestresst bin, gehe ich zum Kühlschrank und nehme mir etwas zu essen. — habit\\n22. Nach dem Aufstehen mache ich mir ein Zitronenwasser. — habit\\n23. Wenn ich mich abends ins Bett lege, scrolle ich sinnlos durch social media. — habit\\n24. wenn ich ins DM gehe, kaufe ich mir was Süßes. — habit\\n25. nach dem Aufstehen trinken und Medikamenteinnahme mach ich ein kurzes HIT Workout — habit\\n26. nach dem Abendbrot wasche ich ab — habit\\n27. Nach dem Aufstehen mache ich ein paar Sprachübungen — habit\\n28. Ich prüfe ob ich meinen Schlüssel dabeihabe, wenn ich aus der  WOhnung gehe — habit\\n29. Ich nehme VItamin D tabletten ein — habit\\n30. Samstags putze ich das Bad. — habit\\n31. Wenn es nicht regnet, gieße ich im Sommer jeden Tag den Apfelbaum. — habit\\n32. Nach dem Abendbrot an einem stressigen Tag esse ich gern ein Stück Schokolade — habit\\n33. Nach dem Sport am Abend gehe ich oft erst spät ins Bett — habit\\n34. Ich habe mir heute eine neue Serie auf Netflix angesehen. — not a habit\\n35. Ich war gestern im Kino — not a habit\\n36. Ich habe vor, einen neuen Getränkegeschmack auszuprobieren — not a habit\\n37. Ich plane, morgen ins Schwimmbad zu gehen. — not a habit\\n38. Ich habe am Wochenende meine Freunde in einer anderen Stadt besucht. — not a habit\\n39. Ich habe heute zum ersten Mal einen Podcast gehört. — not a habit\\n40. Ich habe heute zum ersten Mal ein Selfie mit meiner neuen Kamera gemacht. — not a habit\\n41. Heute habe ich einen langen Spaziergang durch eine fremde Gegend gemacht. — not a habit\\n42. Ich habe letzte Woche meine Wohnung umdekoriert. — not a habit\\n43. Letzte Woche war ich auf der Hochzeit meiner besten Freundin — not a habit\\n44. Letzte Woche war ich auf der Beerdigung eines guten Freundes. — not a habit\\n45. Ich habe vor, nächsten Mittwoch zum Arzt zu gehen — not a habit\\n46. Mir geht es jetzt sehr schlecht, weil mein Magen weh tut — not a habit\\n47. Ich bin an die Landschaft in den Bergen gewöhnt — not a habit\\n48. Letzten Mittwoch hat es plötzlich geregnet, also bin ich in ein Café gegangen, das ich vorher nicht kannte, um Schutz vor dem Regen zu suchen, und ich habe festgestellt, dass es mir wirklich gut gefallen hat. — not a habit\\n49. Heute Morgen fühlte ich mich plötzlich sehr müde — not a habit\\n50. Haferbrei schmeckt besser, wenn man Blaubeeren dazu gibt — not a habit\\n51. Es regnet heute, deshalb möchte ich nicht ins Fitnessstudio gehen — not a habit\\n52. Ich habe mir den Rap einmal angehört und er klang ziemlich gut. — not a habit\\n53. Heute habe ich versucht zu lernen, wie man einen Kuchen backt — not a habit\\n54. Ich habe heute viele neue Freunde kennengelernt — not a habit\\n55. Ich habe heute viele neue Möbel zur Einrichtung meines neuen Hauses bestellt. — not a habit\\n56. Wenn ich versuche zu bezahlen, friert die Webseite aus unbekannten Gründen immer wieder ein — not a habit\\n57. Vielleicht plane ich, in Zukunft zum Militär zu gehen. — not a habit\\n58. Ich habe gestern einen Film auf Englisch ohne Untertitel gesehen. — not a habit\\n59. Ich habe mir heute eine neue Pflanze gekauft. — not a habit\\n60. Ich jogge — habit\\n61. Letzte Woche war ich joggen. — not a habit\\n62. Ich habe einmal Tischtennis gespielt und es nie wieder angefasst — not a habit\\n63. Ich liebe Pommes Frites — not a habit\\n64. Ich habe gestern Pommes gegessen — not a habit\\n65. Ich mag Eis, aber nicht jedes Mal. — not a habit\\n66. Gestern habe ich zum ersten Mal Yoga gemacht. — habit'}]\n"
     ]
    }
   ],
   "source": [
    "messages = [\n",
    "    {\"role\": \"system\", \"content\": \"\"\"You are a habit recognition expert.\n",
    "\n",
    "Your task is to determine whether each sentence in a given list describes a habit.\n",
    "\n",
    "The input is a list of 66 sentences, each enclosed in single quotation marks ('').  \n",
    "Please evaluate the sentences in the exact order they appear in the list.\n",
    "\n",
    "For each sentence, assign one of the following labels:  \n",
    "- \"habit\" if the sentence describes a recurring or routine behavior,  \n",
    "- \"not a habit\" if it does not.\n",
    "\n",
    "The output should be a numbered list. Each item should include the sentence and your classification result in the following format:\n",
    "\n",
    "[Number]. [Sentence] — [Label]\n",
    "\n",
    "Now, please process the list:\n",
    "\"\"\"},\n",
    "    {\"role\": \"user\", \"content\": \"\"\"['Morgens nach dem Aufstehen trinke ich direkt einen Kafffe.', 'Immer wenn ich müde bin, mache ich Atemübungen. ', 'Wenn ich ein negatives Gefühl stark fühle, versuche ich es auszufühlen. ', 'Abends nach dem Abendbrot trinke ich ein Glas Wein. ', 'Wenn ich am Wochenende zum Bäcker gehe, mache ich einen Abstecher in mein Lieblingscafe und trinke einen Cappucino. ', 'Nach dem Aufstehen mache ich Kraftsport', 'Sobald ich eine Aufgabe sehe, trage ich sie in Notion ein. ', 'Wenn mir in Teams angezeigt wird, dass sich ein Kollege im EvalGiGe Meeting befindet, dann trete ich dem Meeting bei. ', 'Wenn mich nach Feierabend noch niemand daheim erwartet, dann spaziere ich nach Hause. ', 'Einmal im Monat verbringe ich einen Tag mit mir allein in Dresden. ', 'Morgens nach dem Aufstehen wasche ich mein Gesicht.', 'Morgens/Abends nach dem Gesichtwaschen putze ich meine Zähne.', 'Morgens/Abends nach dem Zähneputzen creme ich mein Gesicht ein.', 'Morgens nach dem Gesicht-Eincremen füttere ich die Katze.', 'Morgens nach der Katzenfütterung bekommt der Hund eine Kaustange.', 'Morgens nach der Tierfütterung trinke ich einen Kaffee.', 'Nach dem Joggen trinke ich einen Proteinshake.', 'Wenn ich Lust auf ein Bier/Wein habe trinke ich ein Malzbier', 'Bevor ich schlafe mache ich meine Ohrstöpsel ins Ohr.', 'Bevor ich schlafen gehe nehme ich meine Nahrungsergänzungsmittel', 'Wenn ich gestresst bin, gehe ich zum Kühlschrank und nehme mir etwas zu essen.', 'Nach dem Aufstehen mache ich mir ein Zitronenwasser.', 'Wenn ich mich abends ins Bett lege, scrolle ich sinnlos durch social media.', 'wenn ich ins DM gehe, kaufe ich mir was Süßes.', 'nach dem Aufstehen trinken und Medikamenteinnahme mach ich ein kurzes HIT Workout', 'nach dem Abendbrot wasche ich ab', 'Nach dem Aufstehen mache ich ein paar Sprachübungen', 'Ich prüfe ob ich meinen Schlüssel dabeihabe, wenn ich aus der  WOhnung gehe', 'Ich nehme VItamin D tabletten ein', 'Samstags putze ich das Bad.', 'Wenn es nicht regnet, gieße ich im Sommer jeden Tag den Apfelbaum.', 'Nach dem Abendbrot an einem stressigen Tag esse ich gern ein Stück Schokolade', 'Nach dem Sport am Abend gehe ich oft erst spät ins Bett ', 'Ich habe mir heute eine neue Serie auf Netflix angesehen.', 'Ich war gestern im Kino', 'Ich habe vor, einen neuen Getränkegeschmack auszuprobieren', 'Ich plane, morgen ins Schwimmbad zu gehen.', 'Ich habe am Wochenende meine Freunde in einer anderen Stadt besucht.', 'Ich habe heute zum ersten Mal einen Podcast gehört.', 'Ich habe heute zum ersten Mal ein Selfie mit meiner neuen Kamera gemacht.', 'Heute habe ich einen langen Spaziergang durch eine fremde Gegend gemacht.', 'Ich habe letzte Woche meine Wohnung umdekoriert.', 'Letzte Woche war ich auf der Hochzeit meiner besten Freundin', 'Letzte Woche war ich auf der Beerdigung eines guten Freundes.', 'Ich habe vor, nächsten Mittwoch zum Arzt zu gehen', 'Mir geht es jetzt sehr schlecht, weil mein Magen weh tut', 'Ich bin an die Landschaft in den Bergen gewöhnt', 'Letzten Mittwoch hat es plötzlich geregnet, also bin ich in ein Café gegangen, das ich vorher nicht kannte, um Schutz vor dem Regen zu suchen, und ich habe festgestellt, dass es mir wirklich gut gefallen hat.', 'Heute Morgen fühlte ich mich plötzlich sehr müde', 'Haferbrei schmeckt besser, wenn man Blaubeeren dazu gibt', 'Es regnet heute, deshalb möchte ich nicht ins Fitnessstudio gehen', 'Ich habe mir den Rap einmal angehört und er klang ziemlich gut.', 'Heute habe ich versucht zu lernen, wie man einen Kuchen backt', 'Ich habe heute viele neue Freunde kennengelernt', 'Ich habe heute viele neue Möbel zur Einrichtung meines neuen Hauses bestellt.', 'Wenn ich versuche zu bezahlen, friert die Webseite aus unbekannten Gründen immer wieder ein', 'Vielleicht plane ich, in Zukunft zum Militär zu gehen.', 'Ich habe gestern einen Film auf Englisch ohne Untertitel gesehen.', 'Ich habe mir heute eine neue Pflanze gekauft.', 'Ich jogge', 'Letzte Woche war ich joggen.', 'Ich habe einmal Tischtennis gespielt und es nie wieder angefasst', 'Ich liebe Pommes Frites', 'Ich habe gestern Pommes gegessen', 'Ich mag Eis, aber nicht jedes Mal.', 'Gestern habe ich zum ersten Mal Yoga gemacht.']\"\"\"}\n",
    "]\n",
    "\n",
    "response = chat(messages)\n",
    "print(response)"
   ]
  },
  {
   "cell_type": "markdown",
   "id": "4648d701",
   "metadata": {},
   "source": [
    "# Oneshot"
   ]
  },
  {
   "cell_type": "code",
   "execution_count": 6,
   "id": "3bc58a01",
   "metadata": {},
   "outputs": [
    {
     "name": "stderr",
     "output_type": "stream",
     "text": [
      "Setting `pad_token_id` to `eos_token_id`:128001 for open-end generation.\n"
     ]
    },
    {
     "name": "stdout",
     "output_type": "stream",
     "text": [
      "[{'role': 'system', 'content': 'You are a habit recognition expert.\\n\\nYour task is to determine whether each sentence in a given list describes a habit.\\n\\nThe input is a list of 66 sentences, each enclosed in single quotation marks (\\'\\').  \\nPlease evaluate the sentences in the exact order they appear in the list.\\n\\nFor each sentence, assign one of the following labels:  \\n- \"habit\" if the sentence describes a recurring or routine behavior,  \\n- \"not a habit\" if it does not.\\n\\nThe output should be a numbered list. Each item should include the sentence and your classification result in the following format:\\n\\n[Number]. [Sentence] — [Label]\\n\\nHere is a structured one‑shot example to show how to answer:\\n\\nExample:\\n\\'He checks his phone before going to bed every night.\\' — habit  \\n\\nNow, please process the list:\\n'}, {'role': 'user', 'content': \"['Morgens nach dem Aufstehen trinke ich direkt einen Kafffe.', 'Immer wenn ich müde bin, mache ich Atemübungen. ', 'Wenn ich ein negatives Gefühl stark fühle, versuche ich es auszufühlen. ', 'Abends nach dem Abendbrot trinke ich ein Glas Wein. ', 'Wenn ich am Wochenende zum Bäcker gehe, mache ich einen Abstecher in mein Lieblingscafe und trinke einen Cappucino. ', 'Nach dem Aufstehen mache ich Kraftsport', 'Sobald ich eine Aufgabe sehe, trage ich sie in Notion ein. ', 'Wenn mir in Teams angezeigt wird, dass sich ein Kollege im EvalGiGe Meeting befindet, dann trete ich dem Meeting bei. ', 'Wenn mich nach Feierabend noch niemand daheim erwartet, dann spaziere ich nach Hause. ', 'Einmal im Monat verbringe ich einen Tag mit mir allein in Dresden. ', 'Morgens nach dem Aufstehen wasche ich mein Gesicht.', 'Morgens/Abends nach dem Gesichtwaschen putze ich meine Zähne.', 'Morgens/Abends nach dem Zähneputzen creme ich mein Gesicht ein.', 'Morgens nach dem Gesicht-Eincremen füttere ich die Katze.', 'Morgens nach der Katzenfütterung bekommt der Hund eine Kaustange.', 'Morgens nach der Tierfütterung trinke ich einen Kaffee.', 'Nach dem Joggen trinke ich einen Proteinshake.', 'Wenn ich Lust auf ein Bier/Wein habe trinke ich ein Malzbier', 'Bevor ich schlafe mache ich meine Ohrstöpsel ins Ohr.', 'Bevor ich schlafen gehe nehme ich meine Nahrungsergänzungsmittel', 'Wenn ich gestresst bin, gehe ich zum Kühlschrank und nehme mir etwas zu essen.', 'Nach dem Aufstehen mache ich mir ein Zitronenwasser.', 'Wenn ich mich abends ins Bett lege, scrolle ich sinnlos durch social media.', 'wenn ich ins DM gehe, kaufe ich mir was Süßes.', 'nach dem Aufstehen trinken und Medikamenteinnahme mach ich ein kurzes HIT Workout', 'nach dem Abendbrot wasche ich ab', 'Nach dem Aufstehen mache ich ein paar Sprachübungen', 'Ich prüfe ob ich meinen Schlüssel dabeihabe, wenn ich aus der  WOhnung gehe', 'Ich nehme VItamin D tabletten ein', 'Samstags putze ich das Bad.', 'Wenn es nicht regnet, gieße ich im Sommer jeden Tag den Apfelbaum.', 'Nach dem Abendbrot an einem stressigen Tag esse ich gern ein Stück Schokolade', 'Nach dem Sport am Abend gehe ich oft erst spät ins Bett ', 'Ich habe mir heute eine neue Serie auf Netflix angesehen.', 'Ich war gestern im Kino', 'Ich habe vor, einen neuen Getränkegeschmack auszuprobieren', 'Ich plane, morgen ins Schwimmbad zu gehen.', 'Ich habe am Wochenende meine Freunde in einer anderen Stadt besucht.', 'Ich habe heute zum ersten Mal einen Podcast gehört.', 'Ich habe heute zum ersten Mal ein Selfie mit meiner neuen Kamera gemacht.', 'Heute habe ich einen langen Spaziergang durch eine fremde Gegend gemacht.', 'Ich habe letzte Woche meine Wohnung umdekoriert.', 'Letzte Woche war ich auf der Hochzeit meiner besten Freundin', 'Letzte Woche war ich auf der Beerdigung eines guten Freundes.', 'Ich habe vor, nächsten Mittwoch zum Arzt zu gehen', 'Mir geht es jetzt sehr schlecht, weil mein Magen weh tut', 'Ich bin an die Landschaft in den Bergen gewöhnt', 'Letzten Mittwoch hat es plötzlich geregnet, also bin ich in ein Café gegangen, das ich vorher nicht kannte, um Schutz vor dem Regen zu suchen, und ich habe festgestellt, dass es mir wirklich gut gefallen hat.', 'Heute Morgen fühlte ich mich plötzlich sehr müde', 'Haferbrei schmeckt besser, wenn man Blaubeeren dazu gibt', 'Es regnet heute, deshalb möchte ich nicht ins Fitnessstudio gehen', 'Ich habe mir den Rap einmal angehört und er klang ziemlich gut.', 'Heute habe ich versucht zu lernen, wie man einen Kuchen backt', 'Ich habe heute viele neue Freunde kennengelernt', 'Ich habe heute viele neue Möbel zur Einrichtung meines neuen Hauses bestellt.', 'Wenn ich versuche zu bezahlen, friert die Webseite aus unbekannten Gründen immer wieder ein', 'Vielleicht plane ich, in Zukunft zum Militär zu gehen.', 'Ich habe gestern einen Film auf Englisch ohne Untertitel gesehen.', 'Ich habe mir heute eine neue Pflanze gekauft.', 'Ich jogge', 'Letzte Woche war ich joggen.', 'Ich habe einmal Tischtennis gespielt und es nie wieder angefasst', 'Ich liebe Pommes Frites', 'Ich habe gestern Pommes gegessen', 'Ich mag Eis, aber nicht jedes Mal.', 'Gestern habe ich zum ersten Mal Yoga gemacht.']\"}, {'role': 'assistant', 'content': \"1. 'Morgens nach dem Aufstehen trinke ich direkt einen Kafffe.' — habit\\n2. 'Immer wenn ich müde bin, mache ich Atemübungen.'— habit\\n3. 'Wenn ich ein negatives Gefühl stark fühle, versuche ich es auszufühlen.'— habit\\n4. 'Abends nach dem Abendbrot trinke ich ein Glas Wein.'— habit\\n5. 'Wenn ich am Wochenende zum Bäcker gehe, mache ich einen Abstecher in mein Lieblingscafe und trinke einen Cappucino.'— habit\\n6. 'Nach dem Aufstehen mache ich Kraftsport' — habit\\n7. 'Sobald ich eine Aufgabe sehe, trage ich sie in Notion ein.'— habit\\n8. 'Wenn mir in Teams angezeigt wird, dass sich ein Kollege im EvalGiGe Meeting befindet, dann trete ich dem Meeting bei.'— habit\\n9. 'Wenn mich nach Feierabend noch niemand daheim erwartet, dann spaziere ich nach Hause.'— habit\\n10. 'Einmal im Monat verbringe ich einen Tag mit mir allein in Dresden.'— habit\\n11. 'Morgens nach dem Aufstehen wasche ich mein Gesicht.' — habit\\n12. 'Morgens/Abends nach dem Gesichtwaschen putze ich meine Zähne.' — habit\\n13. 'Morgens/Abends nach dem Zähneputzen creme ich mein Gesicht ein.' — habit\\n14. 'Morgens nach dem Gesicht-Eincremen füttere ich die Katze.' — habit\\n15. 'Morgens nach der Katzenfütterung bekommt der Hund eine Kaustange.' — habit\\n16. 'Morgens nach der Tierfütterung trinke ich einen Kaffee.' — habit\\n17. 'Nach dem Joggen trinke ich einen Proteinshake.' — habit\\n18. 'Wenn ich Lust auf ein Bier/Wein habe trinke ich ein Malzbier' — habit\\n19. 'Bevor ich schlafe mache ich meine Ohrstöpsel ins Ohr.' — habit\\n20. 'Bevor ich schlafen gehe nehme ich meine Nahrungsergänzungsmittel' — habit\\n21. 'Wenn ich gestresst bin, gehe ich zum Kühlschrank und nehme mir etwas zu essen.' — habit\\n22. 'Nach dem Aufstehen mache ich mir ein Zitronenwasser.' — habit\\n23. 'Wenn ich mich abends ins Bett lege, scrolle ich sinnlos durch social media.' — habit\\n24. 'wenn ich ins DM gehe, kaufe ich mir was Süßes.' — habit\\n25. 'nach dem Aufstehen trinken und Medikamenteinnahme mach ich ein kurzes HIT Workout' — habit\\n26. 'nach dem Abendbrot wasche ich ab' — habit\\n27. 'Nach dem Aufstehen mache ich ein paar Sprachübungen' — habit\\n28. 'Ich prüfe ob ich meinen Schlüssel dabeihabe, wenn ich aus der WOhnung gehe' — habit\\n29. 'Ich nehme VItamin D tabletten ein' — habit\\n30. 'Samstags putze ich das Bad.' — habit\\n31. 'Wenn es nicht regnet, gieße ich im Sommer jeden Tag den Apfelbaum.' — habit\\n32. 'Nach dem Abendbrot an einem stressigen Tag esse ich gern ein Stück Schokolade' — habit\\n33. 'Nach dem Sport am Abend gehe ich oft erst spät ins Bett'— habit\\n34. 'Ich habe mir heute eine neue Serie auf Netflix angesehen.' — not a habit\\n35. 'Ich war gestern im Kino' — not a habit\\n36. 'Ich habe vor, einen neuen Getränkegeschmack auszuprobieren' — not a habit\\n37. 'Ich plane, morgen ins Schwimmbad zu gehen.' — not a habit\\n38. 'Ich habe am Wochenende meine Freunde in einer anderen Stadt besucht.' — not a habit\\n39. 'Ich habe heute zum ersten Mal einen Podcast gehört.' — not a habit\\n40. 'Ich habe heute zum ersten Mal ein Selfie mit meiner neuen Kamera gemacht.' — not a habit\\n41. 'Heute habe ich einen langen Spaziergang durch eine fremde Gegend gemacht.' — not a habit\\n42. 'Ich habe letzte Woche meine Wohnung umdekoriert.' — not a habit\\n43. 'Letzte Woche war ich auf der Hochzeit meiner besten Freundin' — not a habit\\n44. 'Letzte Woche war ich auf der Beerdigung eines guten Freundes.' — not a habit\\n45. 'Ich habe vor, nächsten Mittwoch zum Arzt zu gehen' — habit\\n46. 'Mir geht es jetzt sehr schlecht, weil mein Magen weh tut' — not a habit\\n47. 'Ich bin an die Landschaft in den Bergen gewöhnt' — not a habit\\n48. 'Letzten Mittwoch hat es plötzlich geregnet, also bin ich in ein Café gegangen, das ich vorher nicht kannte, um Schutz vor dem Regen zu suchen, und ich habe festgestellt, dass es mir wirklich gut gefallen hat.' — not a habit\\n49. 'Heute Morgen fühlte ich mich plötzlich sehr müde' — not a habit\\n50. 'Haferbrei schmeckt besser, wenn man Blaubeeren dazu gibt' — not a habit\\n51. 'Es regnet heute, deshalb möchte ich nicht ins Fitnessstudio gehen' — not a habit\\n52. 'Ich habe mir den Rap einmal angehört und er klang ziemlich gut.' — not a habit\\n53. 'Heute habe ich versucht zu lernen, wie man einen Kuchen backt' — not a habit\\n54. 'Ich habe heute viele neue Freunde kennengelernt' — not a habit\\n55. 'Ich habe heute viele neue Möbel zur Einrichtung meines neuen Hauses bestellt.' — not a habit\\n56. 'Wenn ich versuche zu bezahlen, friert die Webseite aus unbekannten Gründen immer wieder ein' — not a habit\\n57. 'Vielleicht plane ich, in Zukunft zum Militär zu gehen.' — not a habit\\n58. 'Ich habe gestern einen Film auf Englisch ohne Untertitel gesehen.' — not a habit\\n59. 'Ich habe mir heute eine neue Pflanze gekauft.' — not a habit\\n60. 'Ich jogge' — habit\\n61. 'Letzte Woche war ich joggen.' — habit\\n62. 'Ich habe einmal Tischtennis gespielt und es nie wieder angefasst' — not a habit\\n63. 'Ich liebe Pommes Frites' — habit\\n64. 'Ich habe gestern Pommes gegessen' — habit\\n65. 'Ich mag Eis, aber nicht jedes Mal.' — habit\\n66. 'Gestern habe ich zum ersten Mal Yoga gemacht.' — habit\"}]\n"
     ]
    }
   ],
   "source": [
    "messages = [\n",
    "    {\"role\": \"system\", \"content\": \"\"\"You are a habit recognition expert.\n",
    "\n",
    "Your task is to determine whether each sentence in a given list describes a habit.\n",
    "\n",
    "The input is a list of 66 sentences, each enclosed in single quotation marks ('').  \n",
    "Please evaluate the sentences in the exact order they appear in the list.\n",
    "\n",
    "For each sentence, assign one of the following labels:  \n",
    "- \"habit\" if the sentence describes a recurring or routine behavior,  \n",
    "- \"not a habit\" if it does not.\n",
    "\n",
    "The output should be a numbered list. Each item should include the sentence and your classification result in the following format:\n",
    "\n",
    "[Number]. [Sentence] — [Label]\n",
    "\n",
    "Here is a structured one‑shot example to show how to answer:\n",
    "\n",
    "Example:\n",
    "'He checks his phone before going to bed every night.' — habit  \n",
    "\n",
    "Now, please process the list:\n",
    "\"\"\"},\n",
    "    {\"role\": \"user\", \"content\": \"\"\"['Morgens nach dem Aufstehen trinke ich direkt einen Kafffe.', 'Immer wenn ich müde bin, mache ich Atemübungen. ', 'Wenn ich ein negatives Gefühl stark fühle, versuche ich es auszufühlen. ', 'Abends nach dem Abendbrot trinke ich ein Glas Wein. ', 'Wenn ich am Wochenende zum Bäcker gehe, mache ich einen Abstecher in mein Lieblingscafe und trinke einen Cappucino. ', 'Nach dem Aufstehen mache ich Kraftsport', 'Sobald ich eine Aufgabe sehe, trage ich sie in Notion ein. ', 'Wenn mir in Teams angezeigt wird, dass sich ein Kollege im EvalGiGe Meeting befindet, dann trete ich dem Meeting bei. ', 'Wenn mich nach Feierabend noch niemand daheim erwartet, dann spaziere ich nach Hause. ', 'Einmal im Monat verbringe ich einen Tag mit mir allein in Dresden. ', 'Morgens nach dem Aufstehen wasche ich mein Gesicht.', 'Morgens/Abends nach dem Gesichtwaschen putze ich meine Zähne.', 'Morgens/Abends nach dem Zähneputzen creme ich mein Gesicht ein.', 'Morgens nach dem Gesicht-Eincremen füttere ich die Katze.', 'Morgens nach der Katzenfütterung bekommt der Hund eine Kaustange.', 'Morgens nach der Tierfütterung trinke ich einen Kaffee.', 'Nach dem Joggen trinke ich einen Proteinshake.', 'Wenn ich Lust auf ein Bier/Wein habe trinke ich ein Malzbier', 'Bevor ich schlafe mache ich meine Ohrstöpsel ins Ohr.', 'Bevor ich schlafen gehe nehme ich meine Nahrungsergänzungsmittel', 'Wenn ich gestresst bin, gehe ich zum Kühlschrank und nehme mir etwas zu essen.', 'Nach dem Aufstehen mache ich mir ein Zitronenwasser.', 'Wenn ich mich abends ins Bett lege, scrolle ich sinnlos durch social media.', 'wenn ich ins DM gehe, kaufe ich mir was Süßes.', 'nach dem Aufstehen trinken und Medikamenteinnahme mach ich ein kurzes HIT Workout', 'nach dem Abendbrot wasche ich ab', 'Nach dem Aufstehen mache ich ein paar Sprachübungen', 'Ich prüfe ob ich meinen Schlüssel dabeihabe, wenn ich aus der  WOhnung gehe', 'Ich nehme VItamin D tabletten ein', 'Samstags putze ich das Bad.', 'Wenn es nicht regnet, gieße ich im Sommer jeden Tag den Apfelbaum.', 'Nach dem Abendbrot an einem stressigen Tag esse ich gern ein Stück Schokolade', 'Nach dem Sport am Abend gehe ich oft erst spät ins Bett ', 'Ich habe mir heute eine neue Serie auf Netflix angesehen.', 'Ich war gestern im Kino', 'Ich habe vor, einen neuen Getränkegeschmack auszuprobieren', 'Ich plane, morgen ins Schwimmbad zu gehen.', 'Ich habe am Wochenende meine Freunde in einer anderen Stadt besucht.', 'Ich habe heute zum ersten Mal einen Podcast gehört.', 'Ich habe heute zum ersten Mal ein Selfie mit meiner neuen Kamera gemacht.', 'Heute habe ich einen langen Spaziergang durch eine fremde Gegend gemacht.', 'Ich habe letzte Woche meine Wohnung umdekoriert.', 'Letzte Woche war ich auf der Hochzeit meiner besten Freundin', 'Letzte Woche war ich auf der Beerdigung eines guten Freundes.', 'Ich habe vor, nächsten Mittwoch zum Arzt zu gehen', 'Mir geht es jetzt sehr schlecht, weil mein Magen weh tut', 'Ich bin an die Landschaft in den Bergen gewöhnt', 'Letzten Mittwoch hat es plötzlich geregnet, also bin ich in ein Café gegangen, das ich vorher nicht kannte, um Schutz vor dem Regen zu suchen, und ich habe festgestellt, dass es mir wirklich gut gefallen hat.', 'Heute Morgen fühlte ich mich plötzlich sehr müde', 'Haferbrei schmeckt besser, wenn man Blaubeeren dazu gibt', 'Es regnet heute, deshalb möchte ich nicht ins Fitnessstudio gehen', 'Ich habe mir den Rap einmal angehört und er klang ziemlich gut.', 'Heute habe ich versucht zu lernen, wie man einen Kuchen backt', 'Ich habe heute viele neue Freunde kennengelernt', 'Ich habe heute viele neue Möbel zur Einrichtung meines neuen Hauses bestellt.', 'Wenn ich versuche zu bezahlen, friert die Webseite aus unbekannten Gründen immer wieder ein', 'Vielleicht plane ich, in Zukunft zum Militär zu gehen.', 'Ich habe gestern einen Film auf Englisch ohne Untertitel gesehen.', 'Ich habe mir heute eine neue Pflanze gekauft.', 'Ich jogge', 'Letzte Woche war ich joggen.', 'Ich habe einmal Tischtennis gespielt und es nie wieder angefasst', 'Ich liebe Pommes Frites', 'Ich habe gestern Pommes gegessen', 'Ich mag Eis, aber nicht jedes Mal.', 'Gestern habe ich zum ersten Mal Yoga gemacht.']\"\"\"}\n",
    "]\n",
    "\n",
    "response = chat(messages)\n",
    "print(response)"
   ]
  },
  {
   "cell_type": "markdown",
   "id": "dd1de6f8",
   "metadata": {},
   "source": [
    "# Fewshot"
   ]
  },
  {
   "cell_type": "code",
   "execution_count": 7,
   "id": "44c16f80",
   "metadata": {},
   "outputs": [
    {
     "name": "stderr",
     "output_type": "stream",
     "text": [
      "Setting `pad_token_id` to `eos_token_id`:128001 for open-end generation.\n"
     ]
    },
    {
     "name": "stdout",
     "output_type": "stream",
     "text": [
      "[{'role': 'system', 'content': 'You are a habit recognition expert.\\n\\nhabit is a process by which a stimulus generates an impulse to act as a result of a learned stimulus-response association. Habit-generated impulses may compete or combine with impulses and inhibitions arising from other sources, including conscious decisionmaking, to influence responses, and need not generate behaviour.\\n\\nYour task is to determine whether each sentence in a given list describes a habit.\\n\\nThe input is a list of 66 sentences, each enclosed in single quotation marks (\\'\\').  \\nPlease evaluate the sentences in the exact order they appear in the list.\\n\\nFor each sentence, assign one of the following labels:  \\n- \"habit\" if the sentence describes a recurring or routine behavior,  \\n- \"not a habit\" if it does not.\\n\\nThe output should be a numbered list. Each item should include the sentence and your classification result in the following format:\\n\\n[Number]. [Sentence] — [Label]\\n\\nHere are our examples (two habits, two non‑habits):\\n\\nExample 1:\\n\\'He checks his phone before going to bed every night.\\' — habit  \\n\\nExample 2:\\n\\'I always read a book before going to sleep.\\' — habit  \\n\\nExample 3:\\n\\'She visited Paris last summer.\\' — not a habit  \\n\\nExample\\u202f 4:\\n\\'I jog.\\' — not a habit    \\n\\nNow, please process the list:\\n'}, {'role': 'user', 'content': \"['Morgens nach dem Aufstehen trinke ich direkt einen Kafffe.', 'Immer wenn ich müde bin, mache ich Atemübungen. ', 'Wenn ich ein negatives Gefühl stark fühle, versuche ich es auszufühlen. ', 'Abends nach dem Abendbrot trinke ich ein Glas Wein. ', 'Wenn ich am Wochenende zum Bäcker gehe, mache ich einen Abstecher in mein Lieblingscafe und trinke einen Cappucino. ', 'Nach dem Aufstehen mache ich Kraftsport', 'Sobald ich eine Aufgabe sehe, trage ich sie in Notion ein. ', 'Wenn mir in Teams angezeigt wird, dass sich ein Kollege im EvalGiGe Meeting befindet, dann trete ich dem Meeting bei. ', 'Wenn mich nach Feierabend noch niemand daheim erwartet, dann spaziere ich nach Hause. ', 'Einmal im Monat verbringe ich einen Tag mit mir allein in Dresden. ', 'Morgens nach dem Aufstehen wasche ich mein Gesicht.', 'Morgens/Abends nach dem Gesichtwaschen putze ich meine Zähne.', 'Morgens/Abends nach dem Zähneputzen creme ich mein Gesicht ein.', 'Morgens nach dem Gesicht-Eincremen füttere ich die Katze.', 'Morgens nach der Katzenfütterung bekommt der Hund eine Kaustange.', 'Morgens nach der Tierfütterung trinke ich einen Kaffee.', 'Nach dem Joggen trinke ich einen Proteinshake.', 'Wenn ich Lust auf ein Bier/Wein habe trinke ich ein Malzbier', 'Bevor ich schlafe mache ich meine Ohrstöpsel ins Ohr.', 'Bevor ich schlafen gehe nehme ich meine Nahrungsergänzungsmittel', 'Wenn ich gestresst bin, gehe ich zum Kühlschrank und nehme mir etwas zu essen.', 'Nach dem Aufstehen mache ich mir ein Zitronenwasser.', 'Wenn ich mich abends ins Bett lege, scrolle ich sinnlos durch social media.', 'wenn ich ins DM gehe, kaufe ich mir was Süßes.', 'nach dem Aufstehen trinken und Medikamenteinnahme mach ich ein kurzes HIT Workout', 'nach dem Abendbrot wasche ich ab', 'Nach dem Aufstehen mache ich ein paar Sprachübungen', 'Ich prüfe ob ich meinen Schlüssel dabeihabe, wenn ich aus der  WOhnung gehe', 'Ich nehme VItamin D tabletten ein', 'Samstags putze ich das Bad.', 'Wenn es nicht regnet, gieße ich im Sommer jeden Tag den Apfelbaum.', 'Nach dem Abendbrot an einem stressigen Tag esse ich gern ein Stück Schokolade', 'Nach dem Sport am Abend gehe ich oft erst spät ins Bett ', 'Ich habe mir heute eine neue Serie auf Netflix angesehen.', 'Ich war gestern im Kino', 'Ich habe vor, einen neuen Getränkegeschmack auszuprobieren', 'Ich plane, morgen ins Schwimmbad zu gehen.', 'Ich habe am Wochenende meine Freunde in einer anderen Stadt besucht.', 'Ich habe heute zum ersten Mal einen Podcast gehört.', 'Ich habe heute zum ersten Mal ein Selfie mit meiner neuen Kamera gemacht.', 'Heute habe ich einen langen Spaziergang durch eine fremde Gegend gemacht.', 'Ich habe letzte Woche meine Wohnung umdekoriert.', 'Letzte Woche war ich auf der Hochzeit meiner besten Freundin', 'Letzte Woche war ich auf der Beerdigung eines guten Freundes.', 'Ich habe vor, nächsten Mittwoch zum Arzt zu gehen', 'Mir geht es jetzt sehr schlecht, weil mein Magen weh tut', 'Ich bin an die Landschaft in den Bergen gewöhnt', 'Letzten Mittwoch hat es plötzlich geregnet, also bin ich in ein Café gegangen, das ich vorher nicht kannte, um Schutz vor dem Regen zu suchen, und ich habe festgestellt, dass es mir wirklich gut gefallen hat.', 'Heute Morgen fühlte ich mich plötzlich sehr müde', 'Haferbrei schmeckt besser, wenn man Blaubeeren dazu gibt', 'Es regnet heute, deshalb möchte ich nicht ins Fitnessstudio gehen', 'Ich habe mir den Rap einmal angehört und er klang ziemlich gut.', 'Heute habe ich versucht zu lernen, wie man einen Kuchen backt', 'Ich habe heute viele neue Freunde kennengelernt', 'Ich habe heute viele neue Möbel zur Einrichtung meines neuen Hauses bestellt.', 'Wenn ich versuche zu bezahlen, friert die Webseite aus unbekannten Gründen immer wieder ein', 'Vielleicht plane ich, in Zukunft zum Militär zu gehen.', 'Ich habe gestern einen Film auf Englisch ohne Untertitel gesehen.', 'Ich habe mir heute eine neue Pflanze gekauft.', 'Ich jogge', 'Letzte Woche war ich joggen.', 'Ich habe einmal Tischtennis gespielt und es nie wieder angefasst', 'Ich liebe Pommes Frites', 'Ich habe gestern Pommes gegessen', 'Ich mag Eis, aber nicht jedes Mal.', 'Gestern habe ich zum ersten Mal Yoga gemacht.']\"}, {'role': 'assistant', 'content': '1. Morgens nach dem Aufstehen trinke ich direkt einen Kafffe. — habit\\n2. Immer wenn ich müde bin, mache ich Atemübungen. — habit\\n3. Wenn ich ein negatives Gefühl stark fühle, versuche ich es auszufühlen. — habit\\n4. Abends nach dem Abendbrot trinke ich ein Glas Wein. — habit\\n5. Wenn ich am Wochenende zum Bäcker gehe, mache ich einen Abstecher in mein Lieblingscafe und trinke einen Cappucino. — habit\\n6. Nach dem Aufstehen mache ich Kraftsport — habit\\n7. Sobald ich eine Aufgabe sehe, trage ich sie in Notion ein. — habit\\n8. Wenn mir in Teams angezeigt wird, dass sich ein Kollege im EvalGiGe Meeting befindet, dann trete ich dem Meeting bei. — habit\\n9. Wenn mich nach Feierabend noch niemand daheim erwartet, dann spaziere ich nach Hause. — habit\\n10. Einmal im Monat verbringe ich einen Tag mit mir allein in Dresden. — habit\\n11. Morgens nach dem Aufstehen wasche ich mein Gesicht. — habit\\n12. Morgens/Abends nach dem Gesichtwaschen putze ich meine Zähne. — habit\\n13. Morgens/Abends nach dem Zähneputzen creme ich mein Gesicht ein. — habit\\n14. Morgens nach dem Gesicht-Eincremen füttere ich die Katze. — habit\\n15. Morgens nach der Katzenfütterung bekommt der Hund eine Kaustange. — habit\\n16. Morgens nach der Tierfütterung trinke ich einen Kaffee. — habit\\n17. Nach dem Joggen trinke ich einen Proteinshake. — habit\\n18. Wenn ich Lust auf ein Bier/Wein habe trinke ich ein Malzbier — not a habit\\n19. Bevor ich schlafe mache ich meine Ohrstöpsel ins Ohr. — habit\\n20. Bevor ich schlafen gehe nehme ich meine Nahrungsergänzungsmittel — habit\\n21. Wenn ich gestresst bin, gehe ich zum Kühlschrank und nehme mir etwas zu essen. — habit\\n22. Nach dem Aufstehen mache ich mir ein Zitronenwasser. — habit\\n23. Wenn ich mich abends ins Bett lege, scrolle ich sinnlos durch social media. — habit\\n24. wenn ich ins DM gehe, kaufe ich mir was Süßes. — habit\\n25. nach dem Aufstehen trinken und Medikamenteinnahme mach ich ein kurzes HIT Workout — habit\\n26. nach dem Abendbrot wasche ich ab — habit\\n27. Nach dem Aufstehen mache ich ein paar Sprachübungen — habit\\n28. Ich prüfe ob ich meinen Schlüssel dabeihabe, wenn ich aus der  WOhnung gehe — habit\\n29. Ich nehme VItamin D tabletten ein — habit\\n30. Samstags putze ich das Bad. — habit\\n31. Wenn es nicht regnet, gieße ich im Sommer jeden Tag den Apfelbaum. — habit\\n32. Nach dem Abendbrot an einem stressigen Tag esse ich gern ein Stück Schokolade — habit\\n33. Nach dem Sport am Abend gehe ich oft erst spät ins Bett — habit\\n34. Ich habe mir heute eine neue Serie auf Netflix angesehen. — not a habit\\n35. Ich war gestern im Kino — not a habit\\n36. Ich habe vor, einen neuen Getränkegeschmack auszuprobieren — not a habit\\n37. Ich plane, morgen ins Schwimmbad zu gehen. — not a habit\\n38. Ich habe am Wochenende meine Freunde in einer anderen Stadt besucht. — not a habit\\n39. Ich habe heute zum ersten Mal einen Podcast gehört. — not a habit\\n40. Ich habe heute zum ersten Mal ein Selfie mit meiner neuen Kamera gemacht. — not a habit\\n41. Heute habe ich einen langen Spaziergang durch eine fremde Gegend gemacht. — not a habit\\n42. Ich habe letzte Woche meine Wohnung umdekoriert. — not a habit\\n43. Letzte Woche war ich auf der Hochzeit meiner besten Freundin — not a habit\\n44. Letzte Woche war ich auf der Beerdigung eines guten Freundes. — not a habit\\n45. Ich habe vor, nächsten Mittwoch zum Arzt zu gehen — not a habit\\n46. Mir geht es jetzt sehr schlecht, weil mein Magen weh tut — not a habit\\n47. Ich bin an die Landschaft in den Bergen gewöhnt — not a habit\\n48. Letzten Mittwoch hat es plötzlich geregnet, also bin ich in ein Café gegangen, das ich vorher nicht kannte, um Schutz vor dem Regen zu suchen, und ich habe festgestellt, dass es mir wirklich gut gefallen hat. — not a habit\\n49. Heute Morgen fühlte ich mich plötzlich sehr müde — not a habit\\n50. Haferbrei schmeckt besser, wenn man Blaubeeren dazu gibt — not a habit\\n51. Es regnet heute, deshalb möchte ich nicht ins Fitnessstudio gehen — not a habit\\n52. Ich habe mir den Rap einmal angehört und er klang ziemlich gut. — not a habit\\n53. Heute habe ich versucht zu lernen, wie man einen Kuchen backt — not a habit\\n54. Ich habe heute viele neue Freunde kennengelernt — not a habit\\n55. Ich habe heute viele neue Möbel zur Einrichtung meines neuen Hauses bestellt. — not a habit\\n56. Wenn ich versuche zu bezahlen, friert die Webseite aus unbekannten Gründen immer wieder ein — not a habit\\n57. Vielleicht plane ich, in Zukunft zum Militär zu gehen. — not a habit\\n58. Ich habe gestern einen Film auf Englisch ohne Untertitel gesehen. — not a habit\\n59. Ich habe mir heute eine neue Pflanze gekauft. — not a habit\\n60. Ich jogge — not a habit\\n61. Letzte Woche war ich joggen. — not a habit\\n62. Ich habe einmal Tischtennis gespielt und es nie wieder angefasst — not a habit\\n63. Ich liebe Pommes Frites — not a habit\\n64. Ich habe gestern Pommes gegessen — not a habit\\n65. Ich mag Eis, aber nicht jedes Mal. — not a habit\\n66. Gestern habe ich zum ersten Mal Yoga gemacht. — not a habit'}]\n"
     ]
    }
   ],
   "source": [
    "messages = [\n",
    "    {\"role\": \"system\", \"content\": \"\"\"You are a habit recognition expert.\n",
    "\n",
    "habit is a process by which a stimulus generates an impulse to act as a result of a learned stimulus-response association. Habit-generated impulses may compete or combine with impulses and inhibitions arising from other sources, including conscious decisionmaking, to influence responses, and need not generate behaviour.\n",
    "\n",
    "Your task is to determine whether each sentence in a given list describes a habit.\n",
    "\n",
    "The input is a list of 66 sentences, each enclosed in single quotation marks ('').  \n",
    "Please evaluate the sentences in the exact order they appear in the list.\n",
    "\n",
    "For each sentence, assign one of the following labels:  \n",
    "- \"habit\" if the sentence describes a recurring or routine behavior,  \n",
    "- \"not a habit\" if it does not.\n",
    "\n",
    "The output should be a numbered list. Each item should include the sentence and your classification result in the following format:\n",
    "\n",
    "[Number]. [Sentence] — [Label]\n",
    "\n",
    "Here are our examples (two habits, two non‑habits):\n",
    "\n",
    "Example 1:\n",
    "'He checks his phone before going to bed every night.' — habit  \n",
    "\n",
    "Example 2:\n",
    "'I always read a book before going to sleep.' — habit  \n",
    "\n",
    "Example 3:\n",
    "'She visited Paris last summer.' — not a habit  \n",
    "\n",
    "Example  4:\n",
    "'I jog.' — not a habit    \n",
    "\n",
    "Now, please process the list:\n",
    "\"\"\"},\n",
    "    {\"role\": \"user\", \"content\": \"\"\"['Morgens nach dem Aufstehen trinke ich direkt einen Kafffe.', 'Immer wenn ich müde bin, mache ich Atemübungen. ', 'Wenn ich ein negatives Gefühl stark fühle, versuche ich es auszufühlen. ', 'Abends nach dem Abendbrot trinke ich ein Glas Wein. ', 'Wenn ich am Wochenende zum Bäcker gehe, mache ich einen Abstecher in mein Lieblingscafe und trinke einen Cappucino. ', 'Nach dem Aufstehen mache ich Kraftsport', 'Sobald ich eine Aufgabe sehe, trage ich sie in Notion ein. ', 'Wenn mir in Teams angezeigt wird, dass sich ein Kollege im EvalGiGe Meeting befindet, dann trete ich dem Meeting bei. ', 'Wenn mich nach Feierabend noch niemand daheim erwartet, dann spaziere ich nach Hause. ', 'Einmal im Monat verbringe ich einen Tag mit mir allein in Dresden. ', 'Morgens nach dem Aufstehen wasche ich mein Gesicht.', 'Morgens/Abends nach dem Gesichtwaschen putze ich meine Zähne.', 'Morgens/Abends nach dem Zähneputzen creme ich mein Gesicht ein.', 'Morgens nach dem Gesicht-Eincremen füttere ich die Katze.', 'Morgens nach der Katzenfütterung bekommt der Hund eine Kaustange.', 'Morgens nach der Tierfütterung trinke ich einen Kaffee.', 'Nach dem Joggen trinke ich einen Proteinshake.', 'Wenn ich Lust auf ein Bier/Wein habe trinke ich ein Malzbier', 'Bevor ich schlafe mache ich meine Ohrstöpsel ins Ohr.', 'Bevor ich schlafen gehe nehme ich meine Nahrungsergänzungsmittel', 'Wenn ich gestresst bin, gehe ich zum Kühlschrank und nehme mir etwas zu essen.', 'Nach dem Aufstehen mache ich mir ein Zitronenwasser.', 'Wenn ich mich abends ins Bett lege, scrolle ich sinnlos durch social media.', 'wenn ich ins DM gehe, kaufe ich mir was Süßes.', 'nach dem Aufstehen trinken und Medikamenteinnahme mach ich ein kurzes HIT Workout', 'nach dem Abendbrot wasche ich ab', 'Nach dem Aufstehen mache ich ein paar Sprachübungen', 'Ich prüfe ob ich meinen Schlüssel dabeihabe, wenn ich aus der  WOhnung gehe', 'Ich nehme VItamin D tabletten ein', 'Samstags putze ich das Bad.', 'Wenn es nicht regnet, gieße ich im Sommer jeden Tag den Apfelbaum.', 'Nach dem Abendbrot an einem stressigen Tag esse ich gern ein Stück Schokolade', 'Nach dem Sport am Abend gehe ich oft erst spät ins Bett ', 'Ich habe mir heute eine neue Serie auf Netflix angesehen.', 'Ich war gestern im Kino', 'Ich habe vor, einen neuen Getränkegeschmack auszuprobieren', 'Ich plane, morgen ins Schwimmbad zu gehen.', 'Ich habe am Wochenende meine Freunde in einer anderen Stadt besucht.', 'Ich habe heute zum ersten Mal einen Podcast gehört.', 'Ich habe heute zum ersten Mal ein Selfie mit meiner neuen Kamera gemacht.', 'Heute habe ich einen langen Spaziergang durch eine fremde Gegend gemacht.', 'Ich habe letzte Woche meine Wohnung umdekoriert.', 'Letzte Woche war ich auf der Hochzeit meiner besten Freundin', 'Letzte Woche war ich auf der Beerdigung eines guten Freundes.', 'Ich habe vor, nächsten Mittwoch zum Arzt zu gehen', 'Mir geht es jetzt sehr schlecht, weil mein Magen weh tut', 'Ich bin an die Landschaft in den Bergen gewöhnt', 'Letzten Mittwoch hat es plötzlich geregnet, also bin ich in ein Café gegangen, das ich vorher nicht kannte, um Schutz vor dem Regen zu suchen, und ich habe festgestellt, dass es mir wirklich gut gefallen hat.', 'Heute Morgen fühlte ich mich plötzlich sehr müde', 'Haferbrei schmeckt besser, wenn man Blaubeeren dazu gibt', 'Es regnet heute, deshalb möchte ich nicht ins Fitnessstudio gehen', 'Ich habe mir den Rap einmal angehört und er klang ziemlich gut.', 'Heute habe ich versucht zu lernen, wie man einen Kuchen backt', 'Ich habe heute viele neue Freunde kennengelernt', 'Ich habe heute viele neue Möbel zur Einrichtung meines neuen Hauses bestellt.', 'Wenn ich versuche zu bezahlen, friert die Webseite aus unbekannten Gründen immer wieder ein', 'Vielleicht plane ich, in Zukunft zum Militär zu gehen.', 'Ich habe gestern einen Film auf Englisch ohne Untertitel gesehen.', 'Ich habe mir heute eine neue Pflanze gekauft.', 'Ich jogge', 'Letzte Woche war ich joggen.', 'Ich habe einmal Tischtennis gespielt und es nie wieder angefasst', 'Ich liebe Pommes Frites', 'Ich habe gestern Pommes gegessen', 'Ich mag Eis, aber nicht jedes Mal.', 'Gestern habe ich zum ersten Mal Yoga gemacht.']\"\"\"}\n",
    "]\n",
    "\n",
    "response = chat(messages)\n",
    "print(response)"
   ]
  },
  {
   "cell_type": "markdown",
   "id": "c2bdd30c",
   "metadata": {},
   "source": [
    "# Definition"
   ]
  },
  {
   "cell_type": "code",
   "execution_count": 8,
   "id": "5f28868a",
   "metadata": {},
   "outputs": [
    {
     "name": "stderr",
     "output_type": "stream",
     "text": [
      "Setting `pad_token_id` to `eos_token_id`:128001 for open-end generation.\n"
     ]
    },
    {
     "name": "stdout",
     "output_type": "stream",
     "text": [
      "[{'role': 'system', 'content': 'You are a habit recognition expert.\\n\\nhabit is a process by which a stimulus generates an impulse to act as a result of a learned stimulus-response association. Habit-generated impulses may compete or combine with impulses and inhibitions arising from other sources, including conscious decisionmaking, to influence responses, and need not generate behaviour.\\n\\nYour task is to determine whether each sentence in a given list describes a habit.\\n\\nThe input is a list of 66 sentences, each enclosed in single quotation marks (\\'\\').  \\nPlease evaluate the sentences in the exact order they appear in the list.\\n\\nFor each sentence, assign one of the following labels:  \\n- \"habit\" if the sentence describes a recurring or routine behavior,  \\n- \"not a habit\" if it does not.\\n\\nThe output should be a numbered list. Each item should include the sentence and your classification result in the following format:\\n\\n[Number]. [Sentence] — [Label]\\n\\nNow, please process the list:\\n'}, {'role': 'user', 'content': \"['Morgens nach dem Aufstehen trinke ich direkt einen Kafffe.', 'Immer wenn ich müde bin, mache ich Atemübungen. ', 'Wenn ich ein negatives Gefühl stark fühle, versuche ich es auszufühlen. ', 'Abends nach dem Abendbrot trinke ich ein Glas Wein. ', 'Wenn ich am Wochenende zum Bäcker gehe, mache ich einen Abstecher in mein Lieblingscafe und trinke einen Cappucino. ', 'Nach dem Aufstehen mache ich Kraftsport', 'Sobald ich eine Aufgabe sehe, trage ich sie in Notion ein. ', 'Wenn mir in Teams angezeigt wird, dass sich ein Kollege im EvalGiGe Meeting befindet, dann trete ich dem Meeting bei. ', 'Wenn mich nach Feierabend noch niemand daheim erwartet, dann spaziere ich nach Hause. ', 'Einmal im Monat verbringe ich einen Tag mit mir allein in Dresden. ', 'Morgens nach dem Aufstehen wasche ich mein Gesicht.', 'Morgens/Abends nach dem Gesichtwaschen putze ich meine Zähne.', 'Morgens/Abends nach dem Zähneputzen creme ich mein Gesicht ein.', 'Morgens nach dem Gesicht-Eincremen füttere ich die Katze.', 'Morgens nach der Katzenfütterung bekommt der Hund eine Kaustange.', 'Morgens nach der Tierfütterung trinke ich einen Kaffee.', 'Nach dem Joggen trinke ich einen Proteinshake.', 'Wenn ich Lust auf ein Bier/Wein habe trinke ich ein Malzbier', 'Bevor ich schlafe mache ich meine Ohrstöpsel ins Ohr.', 'Bevor ich schlafen gehe nehme ich meine Nahrungsergänzungsmittel', 'Wenn ich gestresst bin, gehe ich zum Kühlschrank und nehme mir etwas zu essen.', 'Nach dem Aufstehen mache ich mir ein Zitronenwasser.', 'Wenn ich mich abends ins Bett lege, scrolle ich sinnlos durch social media.', 'wenn ich ins DM gehe, kaufe ich mir was Süßes.', 'nach dem Aufstehen trinken und Medikamenteinnahme mach ich ein kurzes HIT Workout', 'nach dem Abendbrot wasche ich ab', 'Nach dem Aufstehen mache ich ein paar Sprachübungen', 'Ich prüfe ob ich meinen Schlüssel dabeihabe, wenn ich aus der  WOhnung gehe', 'Ich nehme VItamin D tabletten ein', 'Samstags putze ich das Bad.', 'Wenn es nicht regnet, gieße ich im Sommer jeden Tag den Apfelbaum.', 'Nach dem Abendbrot an einem stressigen Tag esse ich gern ein Stück Schokolade', 'Nach dem Sport am Abend gehe ich oft erst spät ins Bett ', 'Ich habe mir heute eine neue Serie auf Netflix angesehen.', 'Ich war gestern im Kino', 'Ich habe vor, einen neuen Getränkegeschmack auszuprobieren', 'Ich plane, morgen ins Schwimmbad zu gehen.', 'Ich habe am Wochenende meine Freunde in einer anderen Stadt besucht.', 'Ich habe heute zum ersten Mal einen Podcast gehört.', 'Ich habe heute zum ersten Mal ein Selfie mit meiner neuen Kamera gemacht.', 'Heute habe ich einen langen Spaziergang durch eine fremde Gegend gemacht.', 'Ich habe letzte Woche meine Wohnung umdekoriert.', 'Letzte Woche war ich auf der Hochzeit meiner besten Freundin', 'Letzte Woche war ich auf der Beerdigung eines guten Freundes.', 'Ich habe vor, nächsten Mittwoch zum Arzt zu gehen', 'Mir geht es jetzt sehr schlecht, weil mein Magen weh tut', 'Ich bin an die Landschaft in den Bergen gewöhnt', 'Letzten Mittwoch hat es plötzlich geregnet, also bin ich in ein Café gegangen, das ich vorher nicht kannte, um Schutz vor dem Regen zu suchen, und ich habe festgestellt, dass es mir wirklich gut gefallen hat.', 'Heute Morgen fühlte ich mich plötzlich sehr müde', 'Haferbrei schmeckt besser, wenn man Blaubeeren dazu gibt', 'Es regnet heute, deshalb möchte ich nicht ins Fitnessstudio gehen', 'Ich habe mir den Rap einmal angehört und er klang ziemlich gut.', 'Heute habe ich versucht zu lernen, wie man einen Kuchen backt', 'Ich habe heute viele neue Freunde kennengelernt', 'Ich habe heute viele neue Möbel zur Einrichtung meines neuen Hauses bestellt.', 'Wenn ich versuche zu bezahlen, friert die Webseite aus unbekannten Gründen immer wieder ein', 'Vielleicht plane ich, in Zukunft zum Militär zu gehen.', 'Ich habe gestern einen Film auf Englisch ohne Untertitel gesehen.', 'Ich habe mir heute eine neue Pflanze gekauft.', 'Ich jogge', 'Letzte Woche war ich joggen.', 'Ich habe einmal Tischtennis gespielt und es nie wieder angefasst', 'Ich liebe Pommes Frites', 'Ich habe gestern Pommes gegessen', 'Ich mag Eis, aber nicht jedes Mal.', 'Gestern habe ich zum ersten Mal Yoga gemacht.']\"}, {'role': 'assistant', 'content': \"1. 'Morgens nach dem Aufstehen trinke ich direkt einen Kafffe.' — habit\\n2. 'Immer wenn ich müde bin, mache ich Atemübungen.'— habit\\n3. 'Wenn ich ein negatives Gefühl stark fühle, versuche ich es auszufühlen.'— not a habit\\n4. 'Abends nach dem Abendbrot trinke ich ein Glas Wein.'— habit\\n5. 'Wenn ich am Wochenende zum Bäcker gehe, mache ich einen Abstecher in mein Lieblingscafe und trinke einen Cappucino.'— habit\\n6. 'Nach dem Aufstehen mache ich Kraftsport' — habit\\n7. 'Sobald ich eine Aufgabe sehe, trage ich sie in Notion ein.'— habit\\n8. 'Wenn mir in Teams angezeigt wird, dass sich ein Kollege im EvalGiGe Meeting befindet, dann trete ich dem Meeting bei.'— habit\\n9. 'Wenn mich nach Feierabend noch niemand daheim erwartet, dann spaziere ich nach Hause.'— habit\\n10. 'Einmal im Monat verbringe ich einen Tag mit mir allein in Dresden.'— habit\\n11. 'Morgens nach dem Aufstehen wasche ich mein Gesicht.' — habit\\n12. 'Morgens/Abends nach dem Gesichtwaschen putze ich meine Zähne.' — habit\\n13. 'Morgens/Abends nach dem Zähneputzen creme ich mein Gesicht ein.' — habit\\n14. 'Morgens nach dem Gesicht-Eincremen füttere ich die Katze.' — habit\\n15. 'Morgens nach der Katzenfütterung bekommt der Hund eine Kaustange.' — habit\\n16. 'Morgens nach der Tierfütterung trinke ich einen Kaffee.' — habit\\n17. 'Nach dem Joggen trinke ich einen Proteinshake.' — habit\\n18. 'Wenn ich Lust auf ein Bier/Wein habe trinke ich ein Malzbier' — habit\\n19. 'Bevor ich schlafe mache ich meine Ohrstöpsel ins Ohr.' — habit\\n20. 'Bevor ich schlafen gehe nehme ich meine Nahrungsergänzungsmittel' — habit\\n21. 'Wenn ich gestresst bin, gehe ich zum Kühlschrank und nehme mir etwas zu essen.' — habit\\n22. 'Nach dem Aufstehen mache ich mir ein Zitronenwasser.' — habit\\n23. 'Wenn ich mich abends ins Bett lege, scrolle ich sinnlos durch social media.' — habit\\n24. 'wenn ich ins DM gehe, kaufe ich mir was Süßes.' — habit\\n25. 'nach dem Aufstehen trinken und Medikamenteinnahme mach ich ein kurzes HIT Workout' — habit\\n26. 'nach dem Abendbrot wasche ich ab' — habit\\n27. 'Nach dem Aufstehen mache ich ein paar Sprachübungen' — habit\\n28. 'Ich prüfe ob ich meinen Schlüssel dabeihabe, wenn ich aus der  WOhnung gehe' — habit\\n29. 'Ich nehme VItamin D tabletten ein' — habit\\n30. 'Samstags putze ich das Bad.' — habit\\n31. 'Wenn es nicht regnet, gieße ich im Sommer jeden Tag den Apfelbaum.' — habit\\n32. 'Nach dem Abendbrot an einem stressigen Tag esse ich gern ein Stück Schokolade' — habit\\n33. 'Nach dem Sport am Abend gehe ich oft erst spät ins Bett'— habit\\n34. 'Ich habe mir heute eine neue Serie auf Netflix angesehen.' — not a habit\\n35. 'Ich war gestern im Kino' — not a habit\\n36. 'Ich habe vor, einen neuen Getränkegeschmack auszuprobieren' — not a habit\\n37. 'Ich plane, morgen ins Schwimmbad zu gehen.' — not a habit\\n38. 'Ich habe am Wochenende meine Freunde in einer anderen Stadt besucht.' — not a habit\\n39. 'Ich habe heute zum ersten Mal einen Podcast gehört.' — not a habit\\n40. 'Ich habe heute zum ersten Mal ein Selfie mit meiner neuen Kamera gemacht.' — not a habit\\n41. 'Heute habe ich einen langen Spaziergang durch eine fremde Gegend gemacht.' — not a habit\\n42. 'Ich habe letzte Woche meine Wohnung umdekoriert.' — not a habit\\n43. 'Letzte Woche war ich auf der Hochzeit meiner besten Freundin' — not a habit\\n44. 'Letzte Woche war ich auf der Beerdigung eines guten Freundes.' — not a habit\\n45. 'Ich habe vor, nächsten Mittwoch zum Arzt zu gehen' — not a habit\\n46. 'Mir geht es jetzt sehr schlecht, weil mein Magen weh tut' — not a habit\\n47. 'Ich bin an die Landschaft in den Bergen gewöhnt' — not a habit\\n48. 'Letzten Mittwoch hat es plötzlich geregnet, also bin ich in ein Café gegangen, das ich vorher nicht kannte, um Schutz vor dem Regen zu suchen, und ich habe festgestellt, dass es mir wirklich gut gefallen hat.' — not a habit\\n49. 'Heute Morgen fühlte ich mich plötzlich sehr müde' — not a habit\\n50. 'Haferbrei schmeckt besser, wenn man Blaubeeren dazu gibt' — not a habit\\n51. 'Es regnet heute, deshalb möchte ich nicht ins Fitnessstudio gehen' — not a habit\\n52. 'Ich habe mir den Rap einmal angehört und er klang ziemlich gut.' — not a habit\\n53. 'Heute habe ich versucht zu lernen, wie man einen Kuchen backt' — not a habit\\n54. 'Ich habe heute viele neue Freunde kennengelernt' — not a habit\\n55. 'Ich habe heute viele neue Möbel zur Einrichtung meines neuen Hauses bestellt.' — not a habit\\n56. 'Wenn ich versuche zu bezahlen, friert die Webseite aus unbekannten Gründen immer wieder ein' — not a habit\\n57. 'Vielleicht plane ich, in Zukunft zum Militär zu gehen.' — not a habit\\n58. 'Ich habe gestern einen Film auf Englisch ohne Untertitel gesehen.' — not a habit\\n59. 'Ich habe mir heute eine neue Pflanze gekauft.' — not a habit\\n60. 'Ich jogge' — habit\\n61. 'Letzte Woche war ich joggen.' — habit\\n62. 'Ich habe einmal Tischtennis gespielt und es nie wieder angefasst' — not a habit\\n63. 'Ich liebe Pommes Frites' — not a habit\\n64. 'Ich habe gestern Pommes gegessen' — habit\\n65. 'Ich mag Eis, aber nicht jedes Mal.' — not a habit\\n66. 'Gestern habe ich zum ersten Mal Yoga gemacht.' — not a habit\"}]\n"
     ]
    }
   ],
   "source": [
    "messages = [\n",
    "    {\"role\": \"system\", \"content\": \"\"\"You are a habit recognition expert.\n",
    "\n",
    "habit is a process by which a stimulus generates an impulse to act as a result of a learned stimulus-response association. Habit-generated impulses may compete or combine with impulses and inhibitions arising from other sources, including conscious decisionmaking, to influence responses, and need not generate behaviour.\n",
    "\n",
    "Your task is to determine whether each sentence in a given list describes a habit.\n",
    "\n",
    "The input is a list of 66 sentences, each enclosed in single quotation marks ('').  \n",
    "Please evaluate the sentences in the exact order they appear in the list.\n",
    "\n",
    "For each sentence, assign one of the following labels:  \n",
    "- \"habit\" if the sentence describes a recurring or routine behavior,  \n",
    "- \"not a habit\" if it does not.\n",
    "\n",
    "The output should be a numbered list. Each item should include the sentence and your classification result in the following format:\n",
    "\n",
    "[Number]. [Sentence] — [Label]\n",
    "\n",
    "Now, please process the list:\n",
    "\"\"\"},\n",
    "    {\"role\": \"user\", \"content\": \"\"\"['Morgens nach dem Aufstehen trinke ich direkt einen Kafffe.', 'Immer wenn ich müde bin, mache ich Atemübungen. ', 'Wenn ich ein negatives Gefühl stark fühle, versuche ich es auszufühlen. ', 'Abends nach dem Abendbrot trinke ich ein Glas Wein. ', 'Wenn ich am Wochenende zum Bäcker gehe, mache ich einen Abstecher in mein Lieblingscafe und trinke einen Cappucino. ', 'Nach dem Aufstehen mache ich Kraftsport', 'Sobald ich eine Aufgabe sehe, trage ich sie in Notion ein. ', 'Wenn mir in Teams angezeigt wird, dass sich ein Kollege im EvalGiGe Meeting befindet, dann trete ich dem Meeting bei. ', 'Wenn mich nach Feierabend noch niemand daheim erwartet, dann spaziere ich nach Hause. ', 'Einmal im Monat verbringe ich einen Tag mit mir allein in Dresden. ', 'Morgens nach dem Aufstehen wasche ich mein Gesicht.', 'Morgens/Abends nach dem Gesichtwaschen putze ich meine Zähne.', 'Morgens/Abends nach dem Zähneputzen creme ich mein Gesicht ein.', 'Morgens nach dem Gesicht-Eincremen füttere ich die Katze.', 'Morgens nach der Katzenfütterung bekommt der Hund eine Kaustange.', 'Morgens nach der Tierfütterung trinke ich einen Kaffee.', 'Nach dem Joggen trinke ich einen Proteinshake.', 'Wenn ich Lust auf ein Bier/Wein habe trinke ich ein Malzbier', 'Bevor ich schlafe mache ich meine Ohrstöpsel ins Ohr.', 'Bevor ich schlafen gehe nehme ich meine Nahrungsergänzungsmittel', 'Wenn ich gestresst bin, gehe ich zum Kühlschrank und nehme mir etwas zu essen.', 'Nach dem Aufstehen mache ich mir ein Zitronenwasser.', 'Wenn ich mich abends ins Bett lege, scrolle ich sinnlos durch social media.', 'wenn ich ins DM gehe, kaufe ich mir was Süßes.', 'nach dem Aufstehen trinken und Medikamenteinnahme mach ich ein kurzes HIT Workout', 'nach dem Abendbrot wasche ich ab', 'Nach dem Aufstehen mache ich ein paar Sprachübungen', 'Ich prüfe ob ich meinen Schlüssel dabeihabe, wenn ich aus der  WOhnung gehe', 'Ich nehme VItamin D tabletten ein', 'Samstags putze ich das Bad.', 'Wenn es nicht regnet, gieße ich im Sommer jeden Tag den Apfelbaum.', 'Nach dem Abendbrot an einem stressigen Tag esse ich gern ein Stück Schokolade', 'Nach dem Sport am Abend gehe ich oft erst spät ins Bett ', 'Ich habe mir heute eine neue Serie auf Netflix angesehen.', 'Ich war gestern im Kino', 'Ich habe vor, einen neuen Getränkegeschmack auszuprobieren', 'Ich plane, morgen ins Schwimmbad zu gehen.', 'Ich habe am Wochenende meine Freunde in einer anderen Stadt besucht.', 'Ich habe heute zum ersten Mal einen Podcast gehört.', 'Ich habe heute zum ersten Mal ein Selfie mit meiner neuen Kamera gemacht.', 'Heute habe ich einen langen Spaziergang durch eine fremde Gegend gemacht.', 'Ich habe letzte Woche meine Wohnung umdekoriert.', 'Letzte Woche war ich auf der Hochzeit meiner besten Freundin', 'Letzte Woche war ich auf der Beerdigung eines guten Freundes.', 'Ich habe vor, nächsten Mittwoch zum Arzt zu gehen', 'Mir geht es jetzt sehr schlecht, weil mein Magen weh tut', 'Ich bin an die Landschaft in den Bergen gewöhnt', 'Letzten Mittwoch hat es plötzlich geregnet, also bin ich in ein Café gegangen, das ich vorher nicht kannte, um Schutz vor dem Regen zu suchen, und ich habe festgestellt, dass es mir wirklich gut gefallen hat.', 'Heute Morgen fühlte ich mich plötzlich sehr müde', 'Haferbrei schmeckt besser, wenn man Blaubeeren dazu gibt', 'Es regnet heute, deshalb möchte ich nicht ins Fitnessstudio gehen', 'Ich habe mir den Rap einmal angehört und er klang ziemlich gut.', 'Heute habe ich versucht zu lernen, wie man einen Kuchen backt', 'Ich habe heute viele neue Freunde kennengelernt', 'Ich habe heute viele neue Möbel zur Einrichtung meines neuen Hauses bestellt.', 'Wenn ich versuche zu bezahlen, friert die Webseite aus unbekannten Gründen immer wieder ein', 'Vielleicht plane ich, in Zukunft zum Militär zu gehen.', 'Ich habe gestern einen Film auf Englisch ohne Untertitel gesehen.', 'Ich habe mir heute eine neue Pflanze gekauft.', 'Ich jogge', 'Letzte Woche war ich joggen.', 'Ich habe einmal Tischtennis gespielt und es nie wieder angefasst', 'Ich liebe Pommes Frites', 'Ich habe gestern Pommes gegessen', 'Ich mag Eis, aber nicht jedes Mal.', 'Gestern habe ich zum ersten Mal Yoga gemacht.']\"\"\"}\n",
    "]\n",
    "\n",
    "response = chat(messages)\n",
    "print(response)"
   ]
  },
  {
   "cell_type": "markdown",
   "id": "f2b524de",
   "metadata": {},
   "source": [
    "# Definition and Oneshot"
   ]
  },
  {
   "cell_type": "code",
   "execution_count": 9,
   "id": "9d6ad79f",
   "metadata": {},
   "outputs": [
    {
     "name": "stderr",
     "output_type": "stream",
     "text": [
      "Setting `pad_token_id` to `eos_token_id`:128001 for open-end generation.\n"
     ]
    },
    {
     "name": "stdout",
     "output_type": "stream",
     "text": [
      "[{'role': 'system', 'content': 'You are a habit recognition expert.\\n\\nhabit is a process by which a stimulus generates an impulse to act as a result of a learned stimulus-response association. Habit-generated impulses may compete or combine with impulses and inhibitions arising from other sources, including conscious decisionmaking, to influence responses, and need not generate behaviour.\\n\\nYour task is to determine whether each sentence in a given list describes a habit.\\n\\nThe input is a list of 66 sentences, each enclosed in single quotation marks (\\'\\').  \\nPlease evaluate the sentences in the exact order they appear in the list.\\n\\nFor each sentence, assign one of the following labels:  \\n- \"habit\" if the sentence describes a recurring or routine behavior,  \\n- \"not a habit\" if it does not.\\n\\nThe output should be a numbered list. Each item should include the sentence and your classification result in the following format:\\n\\n[Number]. [Sentence] — [Label]\\n\\nHere is a structured one‑shot example to show how to answer:\\n\\nExample:\\n\\'He checks his phone before going to bed every night.\\' — habit  \\n\\nNow, please process the list:\\n'}, {'role': 'user', 'content': \"['Morgens nach dem Aufstehen trinke ich direkt einen Kafffe.', 'Immer wenn ich müde bin, mache ich Atemübungen. ', 'Wenn ich ein negatives Gefühl stark fühle, versuche ich es auszufühlen. ', 'Abends nach dem Abendbrot trinke ich ein Glas Wein. ', 'Wenn ich am Wochenende zum Bäcker gehe, mache ich einen Abstecher in mein Lieblingscafe und trinke einen Cappucino. ', 'Nach dem Aufstehen mache ich Kraftsport', 'Sobald ich eine Aufgabe sehe, trage ich sie in Notion ein. ', 'Wenn mir in Teams angezeigt wird, dass sich ein Kollege im EvalGiGe Meeting befindet, dann trete ich dem Meeting bei. ', 'Wenn mich nach Feierabend noch niemand daheim erwartet, dann spaziere ich nach Hause. ', 'Einmal im Monat verbringe ich einen Tag mit mir allein in Dresden. ', 'Morgens nach dem Aufstehen wasche ich mein Gesicht.', 'Morgens/Abends nach dem Gesichtwaschen putze ich meine Zähne.', 'Morgens/Abends nach dem Zähneputzen creme ich mein Gesicht ein.', 'Morgens nach dem Gesicht-Eincremen füttere ich die Katze.', 'Morgens nach der Katzenfütterung bekommt der Hund eine Kaustange.', 'Morgens nach der Tierfütterung trinke ich einen Kaffee.', 'Nach dem Joggen trinke ich einen Proteinshake.', 'Wenn ich Lust auf ein Bier/Wein habe trinke ich ein Malzbier', 'Bevor ich schlafe mache ich meine Ohrstöpsel ins Ohr.', 'Bevor ich schlafen gehe nehme ich meine Nahrungsergänzungsmittel', 'Wenn ich gestresst bin, gehe ich zum Kühlschrank und nehme mir etwas zu essen.', 'Nach dem Aufstehen mache ich mir ein Zitronenwasser.', 'Wenn ich mich abends ins Bett lege, scrolle ich sinnlos durch social media.', 'wenn ich ins DM gehe, kaufe ich mir was Süßes.', 'nach dem Aufstehen trinken und Medikamenteinnahme mach ich ein kurzes HIT Workout', 'nach dem Abendbrot wasche ich ab', 'Nach dem Aufstehen mache ich ein paar Sprachübungen', 'Ich prüfe ob ich meinen Schlüssel dabeihabe, wenn ich aus der  WOhnung gehe', 'Ich nehme VItamin D tabletten ein', 'Samstags putze ich das Bad.', 'Wenn es nicht regnet, gieße ich im Sommer jeden Tag den Apfelbaum.', 'Nach dem Abendbrot an einem stressigen Tag esse ich gern ein Stück Schokolade', 'Nach dem Sport am Abend gehe ich oft erst spät ins Bett ', 'Ich habe mir heute eine neue Serie auf Netflix angesehen.', 'Ich war gestern im Kino', 'Ich habe vor, einen neuen Getränkegeschmack auszuprobieren', 'Ich plane, morgen ins Schwimmbad zu gehen.', 'Ich habe am Wochenende meine Freunde in einer anderen Stadt besucht.', 'Ich habe heute zum ersten Mal einen Podcast gehört.', 'Ich habe heute zum ersten Mal ein Selfie mit meiner neuen Kamera gemacht.', 'Heute habe ich einen langen Spaziergang durch eine fremde Gegend gemacht.', 'Ich habe letzte Woche meine Wohnung umdekoriert.', 'Letzte Woche war ich auf der Hochzeit meiner besten Freundin', 'Letzte Woche war ich auf der Beerdigung eines guten Freundes.', 'Ich habe vor, nächsten Mittwoch zum Arzt zu gehen', 'Mir geht es jetzt sehr schlecht, weil mein Magen weh tut', 'Ich bin an die Landschaft in den Bergen gewöhnt', 'Letzten Mittwoch hat es plötzlich geregnet, also bin ich in ein Café gegangen, das ich vorher nicht kannte, um Schutz vor dem Regen zu suchen, und ich habe festgestellt, dass es mir wirklich gut gefallen hat.', 'Heute Morgen fühlte ich mich plötzlich sehr müde', 'Haferbrei schmeckt besser, wenn man Blaubeeren dazu gibt', 'Es regnet heute, deshalb möchte ich nicht ins Fitnessstudio gehen', 'Ich habe mir den Rap einmal angehört und er klang ziemlich gut.', 'Heute habe ich versucht zu lernen, wie man einen Kuchen backt', 'Ich habe heute viele neue Freunde kennengelernt', 'Ich habe heute viele neue Möbel zur Einrichtung meines neuen Hauses bestellt.', 'Wenn ich versuche zu bezahlen, friert die Webseite aus unbekannten Gründen immer wieder ein', 'Vielleicht plane ich, in Zukunft zum Militär zu gehen.', 'Ich habe gestern einen Film auf Englisch ohne Untertitel gesehen.', 'Ich habe mir heute eine neue Pflanze gekauft.', 'Ich jogge', 'Letzte Woche war ich joggen.', 'Ich habe einmal Tischtennis gespielt und es nie wieder angefasst', 'Ich liebe Pommes Frites', 'Ich habe gestern Pommes gegessen', 'Ich mag Eis, aber nicht jedes Mal.', 'Gestern habe ich zum ersten Mal Yoga gemacht.']\"}, {'role': 'assistant', 'content': '1. Morgens nach dem Aufstehen trinke ich direkt einen Kaffee. — habit\\n2. Immer wenn ich müde bin, mache ich Atemübungen. — habit\\n3. Wenn ich ein negatives Gefühl stark fühle, versuche ich es auszufühlen. — not a habit\\n4. Abends nach dem Abendbrot trinke ich ein Glas Wein. — habit\\n5. Wenn ich am Wochenende zum Bäcker gehe, mache ich einen Abstecher in mein Lieblingscafe und trinke einen Cappucino. — habit\\n6. Nach dem Aufstehen mache ich Kraftsport — habit\\n7. Sobald ich eine Aufgabe sehe, trage ich sie in Notion ein. — habit\\n8. Wenn mir in Teams angezeigt wird, dass sich ein Kollege im EvalGiGe Meeting befindet, dann trete ich dem Meeting bei. — habit\\n9. Wenn mich nach Feierabend noch niemand daheim erwartet, dann spaziere ich nach Hause. — habit\\n10. Einmal im Monat verbringe ich einen Tag mit mir allein in Dresden. — habit\\n11. Morgens nach dem Aufstehen wasche ich mein Gesicht. — habit\\n12. Morgens/Abends nach dem Gesichtwaschen putze ich meine Zähne. — habit\\n13. Morgens/Abends nach dem Zähneputzen creme ich mein Gesicht ein. — habit\\n14. Morgens nach dem Gesicht-Eincremen füttere ich die Katze. — habit\\n15. Morgens nach der Katzenfütterung bekommt der Hund eine Kaustange. — habit\\n16. Morgens nach der Tierfütterung trinke ich einen Kaffee. — habit\\n17. Nach dem Joggen trinke ich einen Proteinshake. — habit\\n18. Wenn ich Lust auf ein Bier/Wein habe trinke ich ein Malzbier — habit\\n19. Bevor ich schlafe mache ich meine Ohrstöpsel ins Ohr. — habit\\n20. Bevor ich schlafen gehe nehme ich meine Nahrungsergänzungsmittel — habit\\n21. Wenn ich gestresst bin, gehe ich zum Kühlschrank und nehme mir etwas zu essen. — habit\\n22. Nach dem Aufstehen mache ich mir ein Zitronenwasser. — habit\\n23. Wenn ich mich abends ins Bett lege, scrolle ich sinnlos durch social media. — habit\\n24. wenn ich ins DM gehe, kaufe ich mir was Süßes. — habit\\n25. nach dem Aufstehen trinken und Medikamenteinnahme mach ich ein kurzes HIT Workout — habit\\n26. nach dem Abendbrot wasche ich ab — habit\\n27. Nach dem Aufstehen mache ich ein paar Sprachübungen — habit\\n28. Ich prüfe ob ich meinen Schlüssel dabeihabe, wenn ich aus der WOhnung gehe — habit\\n29. Ich nehme VItamin D tabletten ein — habit\\n30. Samstags putze ich das Bad. — habit\\n31. Wenn es nicht regnet, gieße ich im Sommer jeden Tag den Apfelbaum. — habit\\n32. Nach dem Abendbrot an einem stressigen Tag esse ich gern ein Stück Schokolade — habit\\n33. Nach dem Sport am Abend gehe ich oft erst spät ins Bett — habit\\n34. Ich habe mir heute eine neue Serie auf Netflix angesehen. — not a habit\\n35. Ich war gestern im Kino — not a habit\\n36. Ich habe vor, einen neuen Getränkegeschmack auszuprobieren — not a habit\\n37. Ich plane, morgen ins Schwimmbad zu gehen. — not a habit\\n38. Ich habe am Wochenende meine Freunde in einer anderen Stadt besucht. — not a habit\\n39. Ich habe heute zum ersten Mal einen Podcast gehört. — not a habit\\n40. Ich habe heute zum ersten Mal ein Selfie mit meiner neuen Kamera gemacht. — not a habit\\n41. Heute habe ich einen langen Spaziergang durch eine fremde Gegend gemacht. — not a habit\\n42. Ich habe letzte Woche meine Wohnung umdekoriert. — not a habit\\n43. Letzte Woche war ich auf der Hochzeit meiner besten Freundin — not a habit\\n44. Letzte Woche war ich auf der Beerdigung eines guten Freundes. — not a habit\\n45. Ich habe vor, nächsten Mittwoch zum Arzt zu gehen — not a habit\\n46. Mir geht es jetzt sehr schlecht, weil mein Magen weh tut — not a habit\\n47. Ich bin an die Landschaft in den Bergen gewöhnt — not a habit\\n48. Letzten Mittwoch hat es plötzlich geregnet, also bin ich in ein Café gegangen, das ich vorher nicht kannte, um Schutz vor dem Regen zu suchen, und ich habe festgestellt, dass es mir wirklich gut gefallen hat. — not a habit\\n49. Heute Morgen fühlte ich mich plötzlich sehr müde — not a habit\\n50. Haferbrei schmeckt besser, wenn man Blaubeeren dazu gibt — not a habit\\n51. Es regnet heute, deshalb möchte ich nicht ins Fitnessstudio gehen — not a habit\\n52. Ich habe mir den Rap einmal angehört und er klang ziemlich gut. — not a habit\\n53. Heute habe ich versucht zu lernen, wie man einen Kuchen backt — not a habit\\n54. Ich habe heute viele neue Freunde kennengelernt — not a habit\\n55. Ich habe heute viele neue Möbel zur Einrichtung meines neuen Hauses bestellt. — not a habit\\n56. Wenn ich versuche zu bezahlen, friert die Webseite aus unbekannten Gründen immer wieder ein — not a habit\\n57. Vielleicht plane ich, in Zukunft zum Militär zu gehen. — not a habit\\n58. Ich habe gestern einen Film auf Englisch ohne Untertitel gesehen. — not a habit\\n59. Ich habe mir heute eine neue Pflanze gekauft. — not a habit\\n60. Ich jogge — habit\\n61. Letzte Woche war ich joggen. — not a habit\\n62. Ich habe einmal Tischtennis gespielt und es nie wieder angefasst — not a habit\\n63. Ich liebe Pommes Frites — not a habit\\n64. Ich habe gestern Pommes gegessen — not a habit\\n65. Ich mag Eis, aber nicht jedes Mal. — not a habit\\n66. Gestern habe ich zum ersten Mal Yoga gemacht. — not a habit'}]\n"
     ]
    }
   ],
   "source": [
    "messages = [\n",
    "    {\"role\": \"system\", \"content\": \"\"\"You are a habit recognition expert.\n",
    "\n",
    "habit is a process by which a stimulus generates an impulse to act as a result of a learned stimulus-response association. Habit-generated impulses may compete or combine with impulses and inhibitions arising from other sources, including conscious decisionmaking, to influence responses, and need not generate behaviour.\n",
    "\n",
    "Your task is to determine whether each sentence in a given list describes a habit.\n",
    "\n",
    "The input is a list of 66 sentences, each enclosed in single quotation marks ('').  \n",
    "Please evaluate the sentences in the exact order they appear in the list.\n",
    "\n",
    "For each sentence, assign one of the following labels:  \n",
    "- \"habit\" if the sentence describes a recurring or routine behavior,  \n",
    "- \"not a habit\" if it does not.\n",
    "\n",
    "The output should be a numbered list. Each item should include the sentence and your classification result in the following format:\n",
    "\n",
    "[Number]. [Sentence] — [Label]\n",
    "\n",
    "Here is a structured one‑shot example to show how to answer:\n",
    "\n",
    "Example:\n",
    "'He checks his phone before going to bed every night.' — habit  \n",
    "\n",
    "Now, please process the list:\n",
    "\"\"\"},\n",
    "    {\"role\": \"user\", \"content\": \"\"\"['Morgens nach dem Aufstehen trinke ich direkt einen Kafffe.', 'Immer wenn ich müde bin, mache ich Atemübungen. ', 'Wenn ich ein negatives Gefühl stark fühle, versuche ich es auszufühlen. ', 'Abends nach dem Abendbrot trinke ich ein Glas Wein. ', 'Wenn ich am Wochenende zum Bäcker gehe, mache ich einen Abstecher in mein Lieblingscafe und trinke einen Cappucino. ', 'Nach dem Aufstehen mache ich Kraftsport', 'Sobald ich eine Aufgabe sehe, trage ich sie in Notion ein. ', 'Wenn mir in Teams angezeigt wird, dass sich ein Kollege im EvalGiGe Meeting befindet, dann trete ich dem Meeting bei. ', 'Wenn mich nach Feierabend noch niemand daheim erwartet, dann spaziere ich nach Hause. ', 'Einmal im Monat verbringe ich einen Tag mit mir allein in Dresden. ', 'Morgens nach dem Aufstehen wasche ich mein Gesicht.', 'Morgens/Abends nach dem Gesichtwaschen putze ich meine Zähne.', 'Morgens/Abends nach dem Zähneputzen creme ich mein Gesicht ein.', 'Morgens nach dem Gesicht-Eincremen füttere ich die Katze.', 'Morgens nach der Katzenfütterung bekommt der Hund eine Kaustange.', 'Morgens nach der Tierfütterung trinke ich einen Kaffee.', 'Nach dem Joggen trinke ich einen Proteinshake.', 'Wenn ich Lust auf ein Bier/Wein habe trinke ich ein Malzbier', 'Bevor ich schlafe mache ich meine Ohrstöpsel ins Ohr.', 'Bevor ich schlafen gehe nehme ich meine Nahrungsergänzungsmittel', 'Wenn ich gestresst bin, gehe ich zum Kühlschrank und nehme mir etwas zu essen.', 'Nach dem Aufstehen mache ich mir ein Zitronenwasser.', 'Wenn ich mich abends ins Bett lege, scrolle ich sinnlos durch social media.', 'wenn ich ins DM gehe, kaufe ich mir was Süßes.', 'nach dem Aufstehen trinken und Medikamenteinnahme mach ich ein kurzes HIT Workout', 'nach dem Abendbrot wasche ich ab', 'Nach dem Aufstehen mache ich ein paar Sprachübungen', 'Ich prüfe ob ich meinen Schlüssel dabeihabe, wenn ich aus der  WOhnung gehe', 'Ich nehme VItamin D tabletten ein', 'Samstags putze ich das Bad.', 'Wenn es nicht regnet, gieße ich im Sommer jeden Tag den Apfelbaum.', 'Nach dem Abendbrot an einem stressigen Tag esse ich gern ein Stück Schokolade', 'Nach dem Sport am Abend gehe ich oft erst spät ins Bett ', 'Ich habe mir heute eine neue Serie auf Netflix angesehen.', 'Ich war gestern im Kino', 'Ich habe vor, einen neuen Getränkegeschmack auszuprobieren', 'Ich plane, morgen ins Schwimmbad zu gehen.', 'Ich habe am Wochenende meine Freunde in einer anderen Stadt besucht.', 'Ich habe heute zum ersten Mal einen Podcast gehört.', 'Ich habe heute zum ersten Mal ein Selfie mit meiner neuen Kamera gemacht.', 'Heute habe ich einen langen Spaziergang durch eine fremde Gegend gemacht.', 'Ich habe letzte Woche meine Wohnung umdekoriert.', 'Letzte Woche war ich auf der Hochzeit meiner besten Freundin', 'Letzte Woche war ich auf der Beerdigung eines guten Freundes.', 'Ich habe vor, nächsten Mittwoch zum Arzt zu gehen', 'Mir geht es jetzt sehr schlecht, weil mein Magen weh tut', 'Ich bin an die Landschaft in den Bergen gewöhnt', 'Letzten Mittwoch hat es plötzlich geregnet, also bin ich in ein Café gegangen, das ich vorher nicht kannte, um Schutz vor dem Regen zu suchen, und ich habe festgestellt, dass es mir wirklich gut gefallen hat.', 'Heute Morgen fühlte ich mich plötzlich sehr müde', 'Haferbrei schmeckt besser, wenn man Blaubeeren dazu gibt', 'Es regnet heute, deshalb möchte ich nicht ins Fitnessstudio gehen', 'Ich habe mir den Rap einmal angehört und er klang ziemlich gut.', 'Heute habe ich versucht zu lernen, wie man einen Kuchen backt', 'Ich habe heute viele neue Freunde kennengelernt', 'Ich habe heute viele neue Möbel zur Einrichtung meines neuen Hauses bestellt.', 'Wenn ich versuche zu bezahlen, friert die Webseite aus unbekannten Gründen immer wieder ein', 'Vielleicht plane ich, in Zukunft zum Militär zu gehen.', 'Ich habe gestern einen Film auf Englisch ohne Untertitel gesehen.', 'Ich habe mir heute eine neue Pflanze gekauft.', 'Ich jogge', 'Letzte Woche war ich joggen.', 'Ich habe einmal Tischtennis gespielt und es nie wieder angefasst', 'Ich liebe Pommes Frites', 'Ich habe gestern Pommes gegessen', 'Ich mag Eis, aber nicht jedes Mal.', 'Gestern habe ich zum ersten Mal Yoga gemacht.']\"\"\"}\n",
    "]\n",
    "\n",
    "response = chat(messages)\n",
    "print(response)"
   ]
  },
  {
   "cell_type": "markdown",
   "id": "2cef10b5",
   "metadata": {},
   "source": [
    "# Definition and Fewshot"
   ]
  },
  {
   "cell_type": "code",
   "execution_count": 10,
   "id": "4cb17e70",
   "metadata": {},
   "outputs": [
    {
     "name": "stderr",
     "output_type": "stream",
     "text": [
      "Setting `pad_token_id` to `eos_token_id`:128001 for open-end generation.\n"
     ]
    },
    {
     "name": "stdout",
     "output_type": "stream",
     "text": [
      "[{'role': 'system', 'content': 'You are a habit recognition expert.\\n\\nhabit is a process by which a stimulus generates an impulse to act as a result of a learned stimulus-response association. Habit-generated impulses may compete or combine with impulses and inhibitions arising from other sources, including conscious decisionmaking, to influence responses, and need not generate behaviour.\\n\\nYour task is to determine whether each sentence in a given list describes a habit.\\n\\nThe input is a list of 66 sentences, each enclosed in single quotation marks (\\'\\').  \\nPlease evaluate the sentences in the exact order they appear in the list.\\n\\nFor each sentence, assign one of the following labels:  \\n- \"habit\" if the sentence describes a recurring or routine behavior,  \\n- \"not a habit\" if it does not.\\n\\nThe output should be a numbered list. Each item should include the sentence and your classification result in the following format:\\n\\n[Number]. [Sentence] — [Label]\\n\\nHere are our examples (two habits, two non‑habits):\\n\\nExample 1:\\n\\'He checks his phone before going to bed every night.\\' — habit  \\n\\nExample 2:\\n\\'I always read a book before going to sleep.\\' — habit  \\n\\nExample 3:\\n\\'She visited Paris last summer.\\' — not a habit  \\n\\nExample\\u202f 4:\\n\\'I jog.\\' — not a habit  \\n\\nNow, please process the list: \\n'}, {'role': 'user', 'content': \"['Morgens nach dem Aufstehen trinke ich direkt einen Kafffe.', 'Immer wenn ich müde bin, mache ich Atemübungen. ', 'Wenn ich ein negatives Gefühl stark fühle, versuche ich es auszufühlen. ', 'Abends nach dem Abendbrot trinke ich ein Glas Wein. ', 'Wenn ich am Wochenende zum Bäcker gehe, mache ich einen Abstecher in mein Lieblingscafe und trinke einen Cappucino. ', 'Nach dem Aufstehen mache ich Kraftsport', 'Sobald ich eine Aufgabe sehe, trage ich sie in Notion ein. ', 'Wenn mir in Teams angezeigt wird, dass sich ein Kollege im EvalGiGe Meeting befindet, dann trete ich dem Meeting bei. ', 'Wenn mich nach Feierabend noch niemand daheim erwartet, dann spaziere ich nach Hause. ', 'Einmal im Monat verbringe ich einen Tag mit mir allein in Dresden. ', 'Morgens nach dem Aufstehen wasche ich mein Gesicht.', 'Morgens/Abends nach dem Gesichtwaschen putze ich meine Zähne.', 'Morgens/Abends nach dem Zähneputzen creme ich mein Gesicht ein.', 'Morgens nach dem Gesicht-Eincremen füttere ich die Katze.', 'Morgens nach der Katzenfütterung bekommt der Hund eine Kaustange.', 'Morgens nach der Tierfütterung trinke ich einen Kaffee.', 'Nach dem Joggen trinke ich einen Proteinshake.', 'Wenn ich Lust auf ein Bier/Wein habe trinke ich ein Malzbier', 'Bevor ich schlafe mache ich meine Ohrstöpsel ins Ohr.', 'Bevor ich schlafen gehe nehme ich meine Nahrungsergänzungsmittel', 'Wenn ich gestresst bin, gehe ich zum Kühlschrank und nehme mir etwas zu essen.', 'Nach dem Aufstehen mache ich mir ein Zitronenwasser.', 'Wenn ich mich abends ins Bett lege, scrolle ich sinnlos durch social media.', 'wenn ich ins DM gehe, kaufe ich mir was Süßes.', 'nach dem Aufstehen trinken und Medikamenteinnahme mach ich ein kurzes HIT Workout', 'nach dem Abendbrot wasche ich ab', 'Nach dem Aufstehen mache ich ein paar Sprachübungen', 'Ich prüfe ob ich meinen Schlüssel dabeihabe, wenn ich aus der  WOhnung gehe', 'Ich nehme VItamin D tabletten ein', 'Samstags putze ich das Bad.', 'Wenn es nicht regnet, gieße ich im Sommer jeden Tag den Apfelbaum.', 'Nach dem Abendbrot an einem stressigen Tag esse ich gern ein Stück Schokolade', 'Nach dem Sport am Abend gehe ich oft erst spät ins Bett ', 'Ich habe mir heute eine neue Serie auf Netflix angesehen.', 'Ich war gestern im Kino', 'Ich habe vor, einen neuen Getränkegeschmack auszuprobieren', 'Ich plane, morgen ins Schwimmbad zu gehen.', 'Ich habe am Wochenende meine Freunde in einer anderen Stadt besucht.', 'Ich habe heute zum ersten Mal einen Podcast gehört.', 'Ich habe heute zum ersten Mal ein Selfie mit meiner neuen Kamera gemacht.', 'Heute habe ich einen langen Spaziergang durch eine fremde Gegend gemacht.', 'Ich habe letzte Woche meine Wohnung umdekoriert.', 'Letzte Woche war ich auf der Hochzeit meiner besten Freundin', 'Letzte Woche war ich auf der Beerdigung eines guten Freundes.', 'Ich habe vor, nächsten Mittwoch zum Arzt zu gehen', 'Mir geht es jetzt sehr schlecht, weil mein Magen weh tut', 'Ich bin an die Landschaft in den Bergen gewöhnt', 'Letzten Mittwoch hat es plötzlich geregnet, also bin ich in ein Café gegangen, das ich vorher nicht kannte, um Schutz vor dem Regen zu suchen, und ich habe festgestellt, dass es mir wirklich gut gefallen hat.', 'Heute Morgen fühlte ich mich plötzlich sehr müde', 'Haferbrei schmeckt besser, wenn man Blaubeeren dazu gibt', 'Es regnet heute, deshalb möchte ich nicht ins Fitnessstudio gehen', 'Ich habe mir den Rap einmal angehört und er klang ziemlich gut.', 'Heute habe ich versucht zu lernen, wie man einen Kuchen backt', 'Ich habe heute viele neue Freunde kennengelernt', 'Ich habe heute viele neue Möbel zur Einrichtung meines neuen Hauses bestellt.', 'Wenn ich versuche zu bezahlen, friert die Webseite aus unbekannten Gründen immer wieder ein', 'Vielleicht plane ich, in Zukunft zum Militär zu gehen.', 'Ich habe gestern einen Film auf Englisch ohne Untertitel gesehen.', 'Ich habe mir heute eine neue Pflanze gekauft.', 'Ich jogge', 'Letzte Woche war ich joggen.', 'Ich habe einmal Tischtennis gespielt und es nie wieder angefasst', 'Ich liebe Pommes Frites', 'Ich habe gestern Pommes gegessen', 'Ich mag Eis, aber nicht jedes Mal.', 'Gestern habe ich zum ersten Mal Yoga gemacht.']\"}, {'role': 'assistant', 'content': \"1. 'Morgens nach dem Aufstehen trinke ich direkt einen Kafffe.' — habit\\n2. 'Immer wenn ich müde bin, mache ich Atemübungen.'— habit\\n3. 'Wenn ich ein negatives Gefühl stark fühle, versuche ich es auszufühlen.'— habit\\n4. 'Abends nach dem Abendbrot trinke ich ein Glas Wein.'— habit\\n5. 'Wenn ich am Wochenende zum Bäcker gehe, mache ich einen Abstecher in mein Lieblingscafe und trinke einen Cappucino.'— habit\\n6. 'Nach dem Aufstehen mache ich Kraftsport' — habit\\n7. 'Sobald ich eine Aufgabe sehe, trage ich sie in Notion ein.'— habit\\n8. 'Wenn mir in Teams angezeigt wird, dass sich ein Kollege im EvalGiGe Meeting befindet, dann trete ich dem Meeting bei.'— habit\\n9. 'Wenn mich nach Feierabend noch niemand daheim erwartet, dann spaziere ich nach Hause.'— habit\\n10. 'Einmal im Monat verbringe ich einen Tag mit mir allein in Dresden.'— habit\\n11. 'Morgens nach dem Aufstehen wasche ich mein Gesicht.' — habit\\n12. 'Morgens/Abends nach dem Gesichtwaschen putze ich meine Zähne.' — habit\\n13. 'Morgens/Abends nach dem Zähneputzen creme ich mein Gesicht ein.' — habit\\n14. 'Morgens nach dem Gesicht-Eincremen füttere ich die Katze.' — habit\\n15. 'Morgens nach der Katzenfütterung bekommt der Hund eine Kaustange.' — habit\\n16. 'Morgens nach der Tierfütterung trinke ich einen Kaffee.' — habit\\n17. 'Nach dem Joggen trinke ich einen Proteinshake.' — habit\\n18. 'Wenn ich Lust auf ein Bier/Wein habe trinke ich ein Malzbier' — habit\\n19. 'Bevor ich schlafe mache ich meine Ohrstöpsel ins Ohr.' — habit\\n20. 'Bevor ich schlafen gehe nehme ich meine Nahrungsergänzungsmittel' — habit\\n21. 'Wenn ich gestresst bin, gehe ich zum Kühlschrank und nehme mir etwas zu essen.' — habit\\n22. 'Nach dem Aufstehen mache ich mir ein Zitronenwasser.' — habit\\n23. 'Wenn ich mich abends ins Bett lege, scrolle ich sinnlos durch social media.' — habit\\n24. 'wenn ich ins DM gehe, kaufe ich mir was Süßes.' — habit\\n25. 'nach dem Aufstehen trinken und Medikamenteinnahme mach ich ein kurzes HIT Workout' — habit\\n26. 'nach dem Abendbrot wasche ich ab' — habit\\n27. 'Nach dem Aufstehen mache ich ein paar Sprachübungen' — habit\\n28. 'Ich prüfe ob ich meinen Schlüssel dabeihabe, wenn ich aus der  WOhnung gehe' — habit\\n29. 'Ich nehme VItamin D tabletten ein' — habit\\n30. 'Samstags putze ich das Bad.' — habit\\n31. 'Wenn es nicht regnet, gieße ich im Sommer jeden Tag den Apfelbaum.' — habit\\n32. 'Nach dem Abendbrot an einem stressigen Tag esse ich gern ein Stück Schokolade' — habit\\n33. 'Nach dem Sport am Abend gehe ich oft erst spät ins Bett'— habit\\n34. 'Ich habe mir heute eine neue Serie auf Netflix angesehen.' — not a habit\\n35. 'Ich war gestern im Kino' — not a habit\\n36. 'Ich habe vor, einen neuen Getränkegeschmack auszuprobieren' — not a habit\\n37. 'Ich plane, morgen ins Schwimmbad zu gehen.' — not a habit\\n38. 'Ich habe am Wochenende meine Freunde in einer anderen Stadt besucht.' — not a habit\\n39. 'Ich habe heute zum ersten Mal einen Podcast gehört.' — not a habit\\n40. 'Ich habe heute zum ersten Mal ein Selfie mit meiner neuen Kamera gemacht.' — not a habit\\n41. 'Heute habe ich einen langen Spaziergang durch eine fremde Gegend gemacht.' — not a habit\\n42. 'Ich habe letzte Woche meine Wohnung umdekoriert.' — not a habit\\n43. 'Letzte Woche war ich auf der Hochzeit meiner besten Freundin' — not a habit\\n44. 'Letzte Woche war ich auf der Beerdigung eines guten Freundes.' — not a habit\\n45. 'Ich habe vor, nächsten Mittwoch zum Arzt zu gehen' — habit\\n46. 'Mir geht es jetzt sehr schlecht, weil mein Magen weh tut' — not a habit\\n47. 'Ich bin an die Landschaft in den Bergen gewöhnt' — not a habit\\n48. 'Letzten Mittwoch hat es plötzlich geregnet, also bin ich in ein Café gegangen, das ich vorher nicht kannte, um Schutz vor dem Regen zu suchen, und ich habe festgestellt, dass es mir wirklich gut gefallen hat.' — not a habit\\n49. 'Heute Morgen fühlte ich mich plötzlich sehr müde' — not a habit\\n50. 'Haferbrei schmeckt besser, wenn man Blaubeeren dazu gibt' — not a habit\\n51. 'Es regnet heute, deshalb möchte ich nicht ins Fitnessstudio gehen' — not a habit\\n52. 'Ich habe mir den Rap einmal angehört und er klang ziemlich gut.' — not a habit\\n53. 'Heute habe ich versucht zu lernen, wie man einen Kuchen backt' — not a habit\\n54. 'Ich habe heute viele neue Freunde kennengelernt' — not a habit\\n55. 'Ich habe heute viele neue Möbel zur Einrichtung meines neuen Hauses bestellt.' — not a habit\\n56. 'Wenn ich versuche zu bezahlen, friert die Webseite aus unbekannten Gründen immer wieder ein' — not a habit\\n57. 'Vielleicht plane ich, in Zukunft zum Militär zu gehen.' — not a habit\\n58. 'Ich habe gestern einen Film auf Englisch ohne Untertitel gesehen.' — not a habit\\n59. 'Ich habe mir heute eine neue Pflanze gekauft.' — not a habit\\n60. 'Ich jogge' — habit\\n61. 'Letzte Woche war ich joggen.' — habit\\n62. 'Ich habe einmal Tischtennis gespielt und es nie wieder angefasst' — not a habit\\n63. 'Ich liebe Pommes Frites' — habit\\n64. 'Ich habe gestern Pommes gegessen' — habit\\n65. 'Ich mag Eis, aber nicht jedes Mal.' — habit\\n66. 'Gestern habe ich zum ersten Mal Yoga gemacht.' — habit\"}]\n"
     ]
    }
   ],
   "source": [
    "messages = [\n",
    "    {\"role\": \"system\", \"content\": \"\"\"You are a habit recognition expert.\n",
    "\n",
    "habit is a process by which a stimulus generates an impulse to act as a result of a learned stimulus-response association. Habit-generated impulses may compete or combine with impulses and inhibitions arising from other sources, including conscious decisionmaking, to influence responses, and need not generate behaviour.\n",
    "\n",
    "Your task is to determine whether each sentence in a given list describes a habit.\n",
    "\n",
    "The input is a list of 66 sentences, each enclosed in single quotation marks ('').  \n",
    "Please evaluate the sentences in the exact order they appear in the list.\n",
    "\n",
    "For each sentence, assign one of the following labels:  \n",
    "- \"habit\" if the sentence describes a recurring or routine behavior,  \n",
    "- \"not a habit\" if it does not.\n",
    "\n",
    "The output should be a numbered list. Each item should include the sentence and your classification result in the following format:\n",
    "\n",
    "[Number]. [Sentence] — [Label]\n",
    "\n",
    "Here are our examples (two habits, two non‑habits):\n",
    "\n",
    "Example 1:\n",
    "'He checks his phone before going to bed every night.' — habit  \n",
    "\n",
    "Example 2:\n",
    "'I always read a book before going to sleep.' — habit  \n",
    "\n",
    "Example 3:\n",
    "'She visited Paris last summer.' — not a habit  \n",
    "\n",
    "Example  4:\n",
    "'I jog.' — not a habit  \n",
    "\n",
    "Now, please process the list: \n",
    "\"\"\"},\n",
    "    {\"role\": \"user\", \"content\": \"\"\"['Morgens nach dem Aufstehen trinke ich direkt einen Kafffe.', 'Immer wenn ich müde bin, mache ich Atemübungen. ', 'Wenn ich ein negatives Gefühl stark fühle, versuche ich es auszufühlen. ', 'Abends nach dem Abendbrot trinke ich ein Glas Wein. ', 'Wenn ich am Wochenende zum Bäcker gehe, mache ich einen Abstecher in mein Lieblingscafe und trinke einen Cappucino. ', 'Nach dem Aufstehen mache ich Kraftsport', 'Sobald ich eine Aufgabe sehe, trage ich sie in Notion ein. ', 'Wenn mir in Teams angezeigt wird, dass sich ein Kollege im EvalGiGe Meeting befindet, dann trete ich dem Meeting bei. ', 'Wenn mich nach Feierabend noch niemand daheim erwartet, dann spaziere ich nach Hause. ', 'Einmal im Monat verbringe ich einen Tag mit mir allein in Dresden. ', 'Morgens nach dem Aufstehen wasche ich mein Gesicht.', 'Morgens/Abends nach dem Gesichtwaschen putze ich meine Zähne.', 'Morgens/Abends nach dem Zähneputzen creme ich mein Gesicht ein.', 'Morgens nach dem Gesicht-Eincremen füttere ich die Katze.', 'Morgens nach der Katzenfütterung bekommt der Hund eine Kaustange.', 'Morgens nach der Tierfütterung trinke ich einen Kaffee.', 'Nach dem Joggen trinke ich einen Proteinshake.', 'Wenn ich Lust auf ein Bier/Wein habe trinke ich ein Malzbier', 'Bevor ich schlafe mache ich meine Ohrstöpsel ins Ohr.', 'Bevor ich schlafen gehe nehme ich meine Nahrungsergänzungsmittel', 'Wenn ich gestresst bin, gehe ich zum Kühlschrank und nehme mir etwas zu essen.', 'Nach dem Aufstehen mache ich mir ein Zitronenwasser.', 'Wenn ich mich abends ins Bett lege, scrolle ich sinnlos durch social media.', 'wenn ich ins DM gehe, kaufe ich mir was Süßes.', 'nach dem Aufstehen trinken und Medikamenteinnahme mach ich ein kurzes HIT Workout', 'nach dem Abendbrot wasche ich ab', 'Nach dem Aufstehen mache ich ein paar Sprachübungen', 'Ich prüfe ob ich meinen Schlüssel dabeihabe, wenn ich aus der  WOhnung gehe', 'Ich nehme VItamin D tabletten ein', 'Samstags putze ich das Bad.', 'Wenn es nicht regnet, gieße ich im Sommer jeden Tag den Apfelbaum.', 'Nach dem Abendbrot an einem stressigen Tag esse ich gern ein Stück Schokolade', 'Nach dem Sport am Abend gehe ich oft erst spät ins Bett ', 'Ich habe mir heute eine neue Serie auf Netflix angesehen.', 'Ich war gestern im Kino', 'Ich habe vor, einen neuen Getränkegeschmack auszuprobieren', 'Ich plane, morgen ins Schwimmbad zu gehen.', 'Ich habe am Wochenende meine Freunde in einer anderen Stadt besucht.', 'Ich habe heute zum ersten Mal einen Podcast gehört.', 'Ich habe heute zum ersten Mal ein Selfie mit meiner neuen Kamera gemacht.', 'Heute habe ich einen langen Spaziergang durch eine fremde Gegend gemacht.', 'Ich habe letzte Woche meine Wohnung umdekoriert.', 'Letzte Woche war ich auf der Hochzeit meiner besten Freundin', 'Letzte Woche war ich auf der Beerdigung eines guten Freundes.', 'Ich habe vor, nächsten Mittwoch zum Arzt zu gehen', 'Mir geht es jetzt sehr schlecht, weil mein Magen weh tut', 'Ich bin an die Landschaft in den Bergen gewöhnt', 'Letzten Mittwoch hat es plötzlich geregnet, also bin ich in ein Café gegangen, das ich vorher nicht kannte, um Schutz vor dem Regen zu suchen, und ich habe festgestellt, dass es mir wirklich gut gefallen hat.', 'Heute Morgen fühlte ich mich plötzlich sehr müde', 'Haferbrei schmeckt besser, wenn man Blaubeeren dazu gibt', 'Es regnet heute, deshalb möchte ich nicht ins Fitnessstudio gehen', 'Ich habe mir den Rap einmal angehört und er klang ziemlich gut.', 'Heute habe ich versucht zu lernen, wie man einen Kuchen backt', 'Ich habe heute viele neue Freunde kennengelernt', 'Ich habe heute viele neue Möbel zur Einrichtung meines neuen Hauses bestellt.', 'Wenn ich versuche zu bezahlen, friert die Webseite aus unbekannten Gründen immer wieder ein', 'Vielleicht plane ich, in Zukunft zum Militär zu gehen.', 'Ich habe gestern einen Film auf Englisch ohne Untertitel gesehen.', 'Ich habe mir heute eine neue Pflanze gekauft.', 'Ich jogge', 'Letzte Woche war ich joggen.', 'Ich habe einmal Tischtennis gespielt und es nie wieder angefasst', 'Ich liebe Pommes Frites', 'Ich habe gestern Pommes gegessen', 'Ich mag Eis, aber nicht jedes Mal.', 'Gestern habe ich zum ersten Mal Yoga gemacht.']\"\"\"}\n",
    "]\n",
    "\n",
    "response = chat(messages)\n",
    "print(response)"
   ]
  },
  {
   "cell_type": "markdown",
   "id": "8de6a9e9",
   "metadata": {},
   "source": []
  }
 ],
 "metadata": {
  "kernelspec": {
   "display_name": "LLMs-env",
   "language": "python",
   "name": "python3"
  },
  "language_info": {
   "codemirror_mode": {
    "name": "ipython",
    "version": 3
   },
   "file_extension": ".py",
   "mimetype": "text/x-python",
   "name": "python",
   "nbconvert_exporter": "python",
   "pygments_lexer": "ipython3",
   "version": "3.10.18"
  }
 },
 "nbformat": 4,
 "nbformat_minor": 5
}
